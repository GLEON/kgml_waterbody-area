{
  "nbformat": 4,
  "nbformat_minor": 0,
  "metadata": {
    "colab": {
      "name": "Example_classification.ipynb",
      "provenance": [],
      "collapsed_sections": [
        "VqnxVk9MDTFZ",
        "0v5ZdGjR7lLh",
        "YJWyBH2_B8Xa",
        "dkxa1aQgCC2A",
        "lNzh-fmTCIPQ",
        "PJQ-fAlaCRob"
      ],
      "toc_visible": true,
      "include_colab_link": true
    },
    "kernelspec": {
      "name": "python3",
      "display_name": "Python 3"
    },
    "accelerator": "GPU"
  },
  "cells": [
    {
      "cell_type": "markdown",
      "metadata": {
        "id": "view-in-github",
        "colab_type": "text"
      },
      "source": [
        "<a href=\"https://colab.research.google.com/github/GLEON/realsat/blob/master/Example_classification.ipynb\" target=\"_parent\"><img src=\"https://colab.research.google.com/assets/colab-badge.svg\" alt=\"Open In Colab\"/></a>"
      ]
    },
    {
      "cell_type": "markdown",
      "metadata": {
        "id": "VqnxVk9MDTFZ"
      },
      "source": [
        "# IMPORT LIBRARIES"
      ]
    },
    {
      "cell_type": "code",
      "metadata": {
        "id": "zhDfqf127zYt"
      },
      "source": [
        "import os\n",
        "import numpy as np\n",
        "import pandas as pd\n",
        "import seaborn as sns\n",
        "import matplotlib.pyplot as plt\n",
        "from collections import Counter\n",
        "import torch\n",
        "from torch.utils.data.dataset import Dataset\n",
        "from sklearn.model_selection import train_test_split\n",
        "from sklearn.metrics import f1_score, confusion_matrix, classification_report\n",
        "from sklearn.preprocessing import StandardScaler, LabelEncoder"
      ],
      "execution_count": 1,
      "outputs": []
    },
    {
      "cell_type": "markdown",
      "metadata": {
        "id": "0v5ZdGjR7lLh"
      },
      "source": [
        "# CONNECT GOOGLE DRIVE (DATA DIRECTORY) TO GOOGLE COLAB"
      ]
    },
    {
      "cell_type": "code",
      "metadata": {
        "id": "1ssr6pMN-xNL"
      },
      "source": [
        "from google.colab import drive\n",
        "drive.mount('/content/drive')"
      ],
      "execution_count": null,
      "outputs": []
    },
    {
      "cell_type": "code",
      "metadata": {
        "id": "9lH32j6G-9y0"
      },
      "source": [
        "DATASET = 'EMOTION_DATASET'\n",
        "BASE_DIR = os.path.join(\"/content/drive/Shareddrives/Lake Meeting/\")\n",
        "INPUT_DIR = os.path.join(BASE_DIR, 'INPUT', DATASET)\n",
        "\n",
        "YOUR_DIR = os.path.join(BASE_DIR, \"Rahul\", DATASET)\n",
        "NUMPY_DIR = os.path.join(YOUR_DIR, 'NUMPY')\n",
        "MODEL_DIR = os.path.join(YOUR_DIR, 'MODEL')\n",
        "RESULT_DIR = os.path.join(YOUR_DIR, 'RESULT')\n",
        "\n",
        "if not os.path.exists(NUMPY_DIR):\n",
        "    os.makedirs(NUMPY_DIR)\n",
        "if not os.path.exists(MODEL_DIR):\n",
        "    os.makedirs(MODEL_DIR)\n",
        "if not os.path.exists(RESULT_DIR):\n",
        "    os.makedirs(RESULT_DIR)"
      ],
      "execution_count": null,
      "outputs": []
    },
    {
      "cell_type": "markdown",
      "metadata": {
        "id": "B1tO8fX68j0Q"
      },
      "source": [
        "This notebook solves the time-series classification problem using Multi-layer Perceptron model. We solve the emotion classification problem where the input is a time series of length 259 and the classes are positive, neutral and negative emotion."
      ]
    },
    {
      "cell_type": "markdown",
      "metadata": {
        "id": "3m5ocnVaEfdf"
      },
      "source": [
        "## HYPERPARAMETERS"
      ]
    },
    {
      "cell_type": "code",
      "metadata": {
        "id": "gYLHcjgW7xKD"
      },
      "source": [
        "batch_size = 50\n",
        "time_steps = 259\n",
        "channels = 1 \n",
        "classes = 3\n",
        "learning_rate = 0.005\n",
        "epochs = 200"
      ],
      "execution_count": null,
      "outputs": []
    },
    {
      "cell_type": "markdown",
      "metadata": {
        "id": "YJWyBH2_B8Xa"
      },
      "source": [
        "# LOADING DATA"
      ]
    },
    {
      "cell_type": "code",
      "metadata": {
        "colab": {
          "base_uri": "https://localhost:8080/"
        },
        "id": "pRjT9SkWncKz",
        "outputId": "9f7ed44e-4e58-438a-ff01-95189cd4bc7d"
      },
      "source": [
        "print(\"#######################################################################\")\n",
        "print(\"LOAD DATA\")\n",
        "X = np.load(os.path.join(INPUT_DIR, \"X_3_emotion_all_augmented_1.npy\"), allow_pickle = True).astype(np.float32)\n",
        "y = np.load(os.path.join(INPUT_DIR, \"y_3_emotion_all_augmented_1.npy\"), allow_pickle = True)\n",
        "print(X.shape, y.shape)\n",
        "\n",
        "print(\"#######################################################################\")\n",
        "print(\"TRAIN VAL TEST SPLIT\")\n",
        "train_X, test_X, train_y, test_y = train_test_split(X, y, test_size=0.2, random_state=42, stratify=y)\n",
        "train_X, val_X, train_y, val_y = train_test_split(train_X, train_y, test_size=0.2, random_state=42, stratify=train_y)\n",
        "print(train_X.shape, train_y.shape, Counter(train_y))\n",
        "print(val_X.shape, val_y.shape, Counter(val_y))\n",
        "print(test_X.shape, test_y.shape, Counter(test_y))\n",
        "\n",
        "print(\"#######################################################################\")\n",
        "print(\"PREPROCESS LABELS\")\n",
        "le = LabelEncoder()\n",
        "le.fit(train_y)\n",
        "print(\"CLASSES:{}\".format(le.classes_))\n",
        "train_y = le.transform(train_y)\n",
        "val_y = le.transform(val_y)\n",
        "test_y = le.transform(test_y)\n",
        "\n",
        "print(\"#######################################################################\")\n",
        "print(\"PREPROCESS INPUTS\")\n",
        "mean = np.mean(train_X)\n",
        "std = np.std(train_X)\n",
        "train_X = (train_X - mean)/std\n",
        "val_X = (val_X - mean)/std\n",
        "test_X = (test_X - mean)/std\n",
        "\n",
        "print(\"#######################################################################\")\n",
        "print(\"DATA LOADER\")\n",
        "class loader(Dataset):\n",
        "\n",
        "    def __init__(self, X, y):\n",
        "        self.data = X\n",
        "        self.labels = y\n",
        "\n",
        "    def __len__(self):\n",
        "        return len(self.labels)\n",
        "\n",
        "    def __getitem__(self, index):\n",
        "        return self.data[index], self.labels[index]\n",
        "\n",
        "train_data = loader(X=train_X, y=train_y)\n",
        "train_loader = torch.utils.data.DataLoader(dataset=train_data, batch_size=batch_size, shuffle=True, num_workers=0)\n",
        "val_data = loader(X=val_X, y=val_y)\n",
        "val_loader = torch.utils.data.DataLoader(dataset=val_data, batch_size=batch_size, shuffle=True, num_workers=0)\n",
        "test_data = loader(X=test_X, y=test_y)\n",
        "test_loader = torch.utils.data.DataLoader(dataset=test_data, batch_size=batch_size, shuffle=True, num_workers=0)\n",
        "print(\"Train batch:{}\\tVal batch:{}\\tTest batch:{}\".format(len(train_loader), len(val_loader), len(test_loader)))"
      ],
      "execution_count": null,
      "outputs": [
        {
          "output_type": "stream",
          "text": [
            "#######################################################################\n",
            "LOAD DATA\n",
            "(5760, 259) (5760,)\n",
            "#######################################################################\n",
            "TRAIN VAL TEST SPLIT\n",
            "(3686, 259) (3686,) Counter({'negative': 2457, 'neutral': 738, 'positive': 491})\n",
            "(922, 259) (922,) Counter({'negative': 615, 'neutral': 184, 'positive': 123})\n",
            "(1152, 259) (1152,) Counter({'negative': 768, 'neutral': 230, 'positive': 154})\n",
            "#######################################################################\n",
            "PREPROCESS LABELS\n",
            "CLASSES:['negative' 'neutral' 'positive']\n",
            "#######################################################################\n",
            "PREPROCESS INPUTS\n",
            "#######################################################################\n",
            "DATA LOADER\n",
            "Train batch:74\tVal batch:19\tTest batch:24\n"
          ],
          "name": "stdout"
        }
      ]
    },
    {
      "cell_type": "markdown",
      "metadata": {
        "id": "Pbm8lMLpB6By"
      },
      "source": [
        ""
      ]
    },
    {
      "cell_type": "markdown",
      "metadata": {
        "id": "dkxa1aQgCC2A"
      },
      "source": [
        "# DEFINE MODEL"
      ]
    },
    {
      "cell_type": "code",
      "metadata": {
        "colab": {
          "base_uri": "https://localhost:8080/"
        },
        "id": "4uAs0LVjzSrp",
        "outputId": "f5a79077-3ea6-4202-932b-df0f5f84cf3a"
      },
      "source": [
        "print(\"#######################################################################\")\n",
        "print(\"DEFINE MODEL\")\n",
        "class ANN(torch.nn.Module):\n",
        "    def __init__(self, in_channels, out_channels):\n",
        "        super(ANN,self).__init__()\n",
        "        self.fc_1 = torch.nn.Linear(in_channels, 32)\n",
        "        self.fc_2 = torch.nn.Linear(32, out_channels)\n",
        "\n",
        "        self.relu = torch.nn.ReLU()\n",
        "\n",
        "        for m in self.modules():\n",
        "            if isinstance(m, torch.nn.Conv2d) or isinstance(m, torch.nn.Linear):\n",
        "                torch.nn.init.xavier_uniform_(m.weight)\n",
        "\n",
        "    def forward(self,x):\n",
        "        x_fc_1 = self.relu(self.fc_1(x))\n",
        "        out = self.fc_2(x_fc_1)\n",
        "        return out\n",
        "\n",
        "print(\"#######################################################################\")\n",
        "print(\"BUILD MODEL\")\n",
        "model = ANN(in_channels=time_steps, out_channels=classes)\n",
        "model = model.to('cuda')\n",
        "optimizer = torch.optim.Adam(model.parameters(), lr=learning_rate)\n",
        "criterion = torch.nn.CrossEntropyLoss()\n",
        "\n",
        "print(model)"
      ],
      "execution_count": null,
      "outputs": [
        {
          "output_type": "stream",
          "text": [
            "#######################################################################\n",
            "DEFINE MODEL\n",
            "#######################################################################\n",
            "BUILD MODEL\n",
            "ANN(\n",
            "  (fc_1): Linear(in_features=259, out_features=32, bias=True)\n",
            "  (fc_2): Linear(in_features=32, out_features=3, bias=True)\n",
            "  (relu): ReLU()\n",
            ")\n"
          ],
          "name": "stdout"
        }
      ]
    },
    {
      "cell_type": "markdown",
      "metadata": {
        "id": "lNzh-fmTCIPQ"
      },
      "source": [
        "# TRAINING MODEL"
      ]
    },
    {
      "cell_type": "code",
      "metadata": {
        "colab": {
          "base_uri": "https://localhost:8080/",
          "height": 1000
        },
        "id": "7qC-j9nX2zqz",
        "outputId": "945a5ed9-57e9-4c60-fcc5-04da6919398a"
      },
      "source": [
        "print(\"#######################################################################\")\n",
        "print(\"TRAIN MODEL\")\n",
        "train_loss = []\n",
        "val_loss = []\n",
        "train_score = []\n",
        "val_score = []\n",
        "max_score = 0\n",
        "for epoch in range(1,epochs):\n",
        "\n",
        "    model.train()\n",
        "\n",
        "    total_loss = 0\n",
        "    for batch, [data, labels] in enumerate(train_loader):\n",
        "        optimizer.zero_grad()\n",
        "        out = model(data.to('cuda'))\n",
        "        loss = criterion(out, labels.to('cuda'))\n",
        "        loss.backward()\n",
        "        optimizer.step()\n",
        "        total_loss += loss.item()\n",
        "    print('Epoch:{}\\tTrain Loss:{}'.format(epoch, total_loss/(batch+1)), end=\"\\t\")\n",
        "    train_loss.append(total_loss/(batch+1))\n",
        "\n",
        "    total_loss = 0\n",
        "    for batch, [data, labels] in enumerate(val_loader):\n",
        "        out = model(data.to('cuda'))\n",
        "        loss = criterion(out, labels.to('cuda'))\n",
        "        total_loss += loss.item()\n",
        "    print('Val Loss:{}'.format(total_loss/(batch+1)), end=\"\\t\")\n",
        "    val_loss.append(total_loss/(batch+1))\n",
        "\n",
        "    model.eval()\n",
        "\n",
        "    pred_labels = np.zeros(len(train_loader)*batch_size).astype(np.int)\n",
        "    true_labels = np.zeros(len(train_loader)*batch_size).astype(np.int)\n",
        "    total = 0\n",
        "    for batch, [data, labels] in enumerate(train_loader):\n",
        "        out = model(data.to('cuda'))\n",
        "        out = torch.argmax(torch.nn.functional.softmax(out, dim=1), dim=1)\n",
        "        pred_labels[total:total+len(labels)] = out.detach().cpu().numpy()\n",
        "        true_labels[total:total+len(labels)] = labels.cpu().numpy()\n",
        "        total += len(labels)\n",
        "    pred_labels = pred_labels[:total]\n",
        "    true_labels = true_labels[:total]\n",
        "    train_score.append(f1_score(y_true=true_labels, y_pred=pred_labels, average='macro'))\n",
        "    print('Train Score:{:.4f}'.format(train_score[-1]), end=\"\\t\")\n",
        "\n",
        "    pred_labels = np.zeros(len(val_loader)*batch_size).astype(np.int)\n",
        "    true_labels = np.zeros(len(val_loader)*batch_size).astype(np.int)\n",
        "    total = 0\n",
        "    for batch, [data, labels] in enumerate(val_loader):\n",
        "        out = model(data.to('cuda'))\n",
        "        out = torch.argmax(torch.nn.functional.softmax(out, dim=1), dim=1)\n",
        "        pred_labels[total:total+len(labels)] = out.detach().cpu().numpy()\n",
        "        true_labels[total:total+len(labels)] = labels.cpu().numpy()\n",
        "        total += len(labels)\n",
        "    pred_labels = pred_labels[:total]\n",
        "    true_labels = true_labels[:total]\n",
        "    val_score.append(f1_score(y_true=true_labels, y_pred=pred_labels, average='macro'))\n",
        "    print(\"Val Score:{:.4f}\\tMax Score:{:.4f}\".format(val_score[-1], max_score))\n",
        "    if max_score<val_score[-1]:\n",
        "        max_score = val_score[-1]\n",
        "        torch.save(model.state_dict(), os.path.join(MODEL_DIR, \"ANN.pt\"))\n",
        "\n",
        "fig, axs = plt.subplots(nrows=1, ncols=2, constrained_layout=True)\n",
        "ax = axs[0]\n",
        "ax.plot(train_loss, label='train')\n",
        "ax.plot(val_loss, label='val')\n",
        "ax.legend()\n",
        "ax.set_ylabel('loss')\n",
        "ax.set_xlabel('epochs')\n",
        "ax = axs[1] \n",
        "ax.plot(train_score, label='train')\n",
        "ax.plot(val_score, label='val')\n",
        "ax.legend()\n",
        "ax.set_ylabel('F1')\n",
        "ax.set_xlabel('epochs')\n",
        "plt.savefig(os.path.join(RESULT_DIR, \"ANN.pdf\"), format = \"pdf\")\n",
        "plt.show()"
      ],
      "execution_count": null,
      "outputs": [
        {
          "output_type": "stream",
          "text": [
            "#######################################################################\n",
            "TRAIN MODEL\n",
            "Epoch:1\tTrain Loss:0.8642388332534481\tVal Loss:0.8041139872450578\tTrain Score:0.4173\tVal Score:0.4048\tMax Score:0.0000\n",
            "Epoch:2\tTrain Loss:0.7793594920957411\tVal Loss:0.7785970600027787\tTrain Score:0.4156\tVal Score:0.3909\tMax Score:0.4048\n",
            "Epoch:3\tTrain Loss:0.7637130964446712\tVal Loss:0.7551847727675187\tTrain Score:0.4040\tVal Score:0.3748\tMax Score:0.4048\n",
            "Epoch:4\tTrain Loss:0.7472106459978465\tVal Loss:0.8027109127295645\tTrain Score:0.4376\tVal Score:0.3936\tMax Score:0.4048\n",
            "Epoch:5\tTrain Loss:0.7348131456890622\tVal Loss:0.7595637221085397\tTrain Score:0.4693\tVal Score:0.4134\tMax Score:0.4048\n",
            "Epoch:6\tTrain Loss:0.7109360606283754\tVal Loss:0.7258799640755904\tTrain Score:0.5191\tVal Score:0.4572\tMax Score:0.4134\n",
            "Epoch:7\tTrain Loss:0.71058093776574\tVal Loss:0.7599870593924272\tTrain Score:0.4418\tVal Score:0.3817\tMax Score:0.4572\n",
            "Epoch:8\tTrain Loss:0.6868877056482676\tVal Loss:0.7395838906890467\tTrain Score:0.4968\tVal Score:0.4368\tMax Score:0.4572\n",
            "Epoch:9\tTrain Loss:0.6785924394388456\tVal Loss:0.725362661637758\tTrain Score:0.5018\tVal Score:0.4293\tMax Score:0.4572\n",
            "Epoch:10\tTrain Loss:0.6654563517989339\tVal Loss:0.7294309170622575\tTrain Score:0.4910\tVal Score:0.4280\tMax Score:0.4572\n",
            "Epoch:11\tTrain Loss:0.6511551842496202\tVal Loss:0.7271116846486142\tTrain Score:0.5246\tVal Score:0.4538\tMax Score:0.4572\n",
            "Epoch:12\tTrain Loss:0.643924075606707\tVal Loss:0.7109735357133966\tTrain Score:0.5439\tVal Score:0.4712\tMax Score:0.4572\n",
            "Epoch:13\tTrain Loss:0.6391867016618317\tVal Loss:0.7123061983208907\tTrain Score:0.5465\tVal Score:0.4564\tMax Score:0.4712\n",
            "Epoch:14\tTrain Loss:0.6293295110399658\tVal Loss:0.6921150370648033\tTrain Score:0.5459\tVal Score:0.4784\tMax Score:0.4712\n",
            "Epoch:15\tTrain Loss:0.616435062643644\tVal Loss:0.7050913446827939\tTrain Score:0.5472\tVal Score:0.4743\tMax Score:0.4784\n",
            "Epoch:16\tTrain Loss:0.619228939752321\tVal Loss:0.7161615992847242\tTrain Score:0.5577\tVal Score:0.4801\tMax Score:0.4784\n",
            "Epoch:17\tTrain Loss:0.6112983500635302\tVal Loss:0.6878641875166642\tTrain Score:0.5548\tVal Score:0.4972\tMax Score:0.4801\n",
            "Epoch:18\tTrain Loss:0.5981782823801041\tVal Loss:0.7121734681882357\tTrain Score:0.5765\tVal Score:0.4810\tMax Score:0.4972\n",
            "Epoch:19\tTrain Loss:0.5938646555752367\tVal Loss:0.7142549910043415\tTrain Score:0.5945\tVal Score:0.4990\tMax Score:0.4972\n",
            "Epoch:20\tTrain Loss:0.5919249275246182\tVal Loss:0.6904659647690622\tTrain Score:0.5946\tVal Score:0.4915\tMax Score:0.4990\n",
            "Epoch:21\tTrain Loss:0.5786188011233871\tVal Loss:0.7059363189496493\tTrain Score:0.5804\tVal Score:0.5021\tMax Score:0.4990\n",
            "Epoch:22\tTrain Loss:0.5804287493228912\tVal Loss:0.7578237684149491\tTrain Score:0.6131\tVal Score:0.5481\tMax Score:0.5021\n",
            "Epoch:23\tTrain Loss:0.5822437679445421\tVal Loss:0.6916753288946653\tTrain Score:0.5971\tVal Score:0.5096\tMax Score:0.5481\n",
            "Epoch:24\tTrain Loss:0.5611301153092771\tVal Loss:0.7001971006393433\tTrain Score:0.6223\tVal Score:0.5243\tMax Score:0.5481\n",
            "Epoch:25\tTrain Loss:0.5506256923482225\tVal Loss:0.6924698572409781\tTrain Score:0.6324\tVal Score:0.5155\tMax Score:0.5481\n",
            "Epoch:26\tTrain Loss:0.5507680878445909\tVal Loss:0.6902280779261338\tTrain Score:0.6252\tVal Score:0.5295\tMax Score:0.5481\n",
            "Epoch:27\tTrain Loss:0.546726634373536\tVal Loss:0.6938171669056541\tTrain Score:0.6399\tVal Score:0.4992\tMax Score:0.5481\n",
            "Epoch:28\tTrain Loss:0.5413317458855139\tVal Loss:0.7142733335494995\tTrain Score:0.6636\tVal Score:0.5235\tMax Score:0.5481\n",
            "Epoch:29\tTrain Loss:0.5254474862201793\tVal Loss:0.7046654914554796\tTrain Score:0.6450\tVal Score:0.5189\tMax Score:0.5481\n",
            "Epoch:30\tTrain Loss:0.537035462824074\tVal Loss:0.6865440293362266\tTrain Score:0.6202\tVal Score:0.5234\tMax Score:0.5481\n",
            "Epoch:31\tTrain Loss:0.5398115560009673\tVal Loss:0.7035317640555533\tTrain Score:0.6615\tVal Score:0.5015\tMax Score:0.5481\n",
            "Epoch:32\tTrain Loss:0.516615153567211\tVal Loss:0.6907541171500557\tTrain Score:0.6760\tVal Score:0.5393\tMax Score:0.5481\n",
            "Epoch:33\tTrain Loss:0.5037505143397564\tVal Loss:0.7271379891194796\tTrain Score:0.6612\tVal Score:0.4870\tMax Score:0.5481\n",
            "Epoch:34\tTrain Loss:0.49901592570382197\tVal Loss:0.704841097718791\tTrain Score:0.6649\tVal Score:0.5414\tMax Score:0.5481\n",
            "Epoch:35\tTrain Loss:0.4965343672681499\tVal Loss:0.7086925663446125\tTrain Score:0.6953\tVal Score:0.5324\tMax Score:0.5481\n",
            "Epoch:36\tTrain Loss:0.4941951419050629\tVal Loss:0.7374621425804339\tTrain Score:0.6347\tVal Score:0.5005\tMax Score:0.5481\n",
            "Epoch:37\tTrain Loss:0.5226750140254562\tVal Loss:0.7308509255710401\tTrain Score:0.6608\tVal Score:0.5273\tMax Score:0.5481\n",
            "Epoch:38\tTrain Loss:0.48836456803051204\tVal Loss:0.7229202703425759\tTrain Score:0.6697\tVal Score:0.5293\tMax Score:0.5481\n",
            "Epoch:39\tTrain Loss:0.49374622992567113\tVal Loss:0.7126961287699247\tTrain Score:0.6690\tVal Score:0.5256\tMax Score:0.5481\n",
            "Epoch:40\tTrain Loss:0.47455016302095876\tVal Loss:0.7070551389142087\tTrain Score:0.6924\tVal Score:0.5333\tMax Score:0.5481\n",
            "Epoch:41\tTrain Loss:0.479787215590477\tVal Loss:0.712404163260209\tTrain Score:0.7158\tVal Score:0.5427\tMax Score:0.5481\n",
            "Epoch:42\tTrain Loss:0.4747688856882018\tVal Loss:0.7069060771088851\tTrain Score:0.6951\tVal Score:0.5351\tMax Score:0.5481\n",
            "Epoch:43\tTrain Loss:0.46905818903768387\tVal Loss:0.7442899377722489\tTrain Score:0.6827\tVal Score:0.5135\tMax Score:0.5481\n",
            "Epoch:44\tTrain Loss:0.4758637692477252\tVal Loss:0.7711872552570543\tTrain Score:0.6755\tVal Score:0.5365\tMax Score:0.5481\n",
            "Epoch:45\tTrain Loss:0.4744345046378471\tVal Loss:0.7130794023212633\tTrain Score:0.6985\tVal Score:0.5430\tMax Score:0.5481\n",
            "Epoch:46\tTrain Loss:0.4585052325918868\tVal Loss:0.7625887880199834\tTrain Score:0.7131\tVal Score:0.5387\tMax Score:0.5481\n",
            "Epoch:47\tTrain Loss:0.44490176862156067\tVal Loss:0.7240194176372728\tTrain Score:0.7176\tVal Score:0.5420\tMax Score:0.5481\n",
            "Epoch:48\tTrain Loss:0.43843982489527883\tVal Loss:0.7255741404859644\tTrain Score:0.7202\tVal Score:0.5703\tMax Score:0.5481\n",
            "Epoch:49\tTrain Loss:0.43807922001626043\tVal Loss:0.7485501562294207\tTrain Score:0.7154\tVal Score:0.5492\tMax Score:0.5703\n",
            "Epoch:50\tTrain Loss:0.44481237031318044\tVal Loss:0.7401077888513866\tTrain Score:0.6966\tVal Score:0.5359\tMax Score:0.5703\n",
            "Epoch:51\tTrain Loss:0.45198272933831085\tVal Loss:0.7175339397631193\tTrain Score:0.7180\tVal Score:0.5554\tMax Score:0.5703\n",
            "Epoch:52\tTrain Loss:0.4416746903915663\tVal Loss:0.7914161744870638\tTrain Score:0.7263\tVal Score:0.5422\tMax Score:0.5703\n",
            "Epoch:53\tTrain Loss:0.437414083126429\tVal Loss:0.7471814500658136\tTrain Score:0.7334\tVal Score:0.5396\tMax Score:0.5703\n",
            "Epoch:54\tTrain Loss:0.4474758084964108\tVal Loss:0.7088458600797152\tTrain Score:0.7399\tVal Score:0.5698\tMax Score:0.5703\n",
            "Epoch:55\tTrain Loss:0.4353978525142412\tVal Loss:0.7345321805853593\tTrain Score:0.7327\tVal Score:0.5467\tMax Score:0.5703\n",
            "Epoch:56\tTrain Loss:0.4133717439867355\tVal Loss:0.7411493157085619\tTrain Score:0.7185\tVal Score:0.5357\tMax Score:0.5703\n",
            "Epoch:57\tTrain Loss:0.42475905410341314\tVal Loss:0.7233978023654536\tTrain Score:0.7520\tVal Score:0.5661\tMax Score:0.5703\n",
            "Epoch:58\tTrain Loss:0.4152388669349052\tVal Loss:0.7828831970691681\tTrain Score:0.7040\tVal Score:0.5339\tMax Score:0.5703\n",
            "Epoch:59\tTrain Loss:0.43415474549338623\tVal Loss:0.7761689722537994\tTrain Score:0.7228\tVal Score:0.5668\tMax Score:0.5703\n",
            "Epoch:60\tTrain Loss:0.4124132747182975\tVal Loss:0.7117609193450526\tTrain Score:0.7664\tVal Score:0.5533\tMax Score:0.5703\n",
            "Epoch:61\tTrain Loss:0.4095590587806057\tVal Loss:0.7719509083973733\tTrain Score:0.7640\tVal Score:0.5642\tMax Score:0.5703\n",
            "Epoch:62\tTrain Loss:0.4203402452372216\tVal Loss:0.742761470769581\tTrain Score:0.7410\tVal Score:0.5590\tMax Score:0.5703\n",
            "Epoch:63\tTrain Loss:0.4109011503892976\tVal Loss:0.7979727873676702\tTrain Score:0.7502\tVal Score:0.5537\tMax Score:0.5703\n",
            "Epoch:64\tTrain Loss:0.39269074636536677\tVal Loss:0.7332904589803595\tTrain Score:0.7599\tVal Score:0.5761\tMax Score:0.5703\n",
            "Epoch:65\tTrain Loss:0.395100413947492\tVal Loss:0.7120373029457895\tTrain Score:0.7732\tVal Score:0.5687\tMax Score:0.5761\n",
            "Epoch:66\tTrain Loss:0.3860767727365365\tVal Loss:0.7757619509571477\tTrain Score:0.7627\tVal Score:0.5604\tMax Score:0.5761\n",
            "Epoch:67\tTrain Loss:0.39699862373841777\tVal Loss:0.7552674914661207\tTrain Score:0.7483\tVal Score:0.5673\tMax Score:0.5761\n",
            "Epoch:68\tTrain Loss:0.41497765622428945\tVal Loss:0.7997832423762271\tTrain Score:0.7568\tVal Score:0.5549\tMax Score:0.5761\n",
            "Epoch:69\tTrain Loss:0.41377170826937704\tVal Loss:0.787703696050142\tTrain Score:0.7520\tVal Score:0.5607\tMax Score:0.5761\n",
            "Epoch:70\tTrain Loss:0.401341783235202\tVal Loss:0.7568861355907038\tTrain Score:0.7786\tVal Score:0.6041\tMax Score:0.5761\n",
            "Epoch:71\tTrain Loss:0.38026255711510376\tVal Loss:0.8182454799350939\tTrain Score:0.7689\tVal Score:0.5630\tMax Score:0.6041\n",
            "Epoch:72\tTrain Loss:0.3783643382626611\tVal Loss:0.7852255843187633\tTrain Score:0.7639\tVal Score:0.5572\tMax Score:0.6041\n",
            "Epoch:73\tTrain Loss:0.38189552704224716\tVal Loss:0.7809123710582131\tTrain Score:0.7809\tVal Score:0.5963\tMax Score:0.6041\n",
            "Epoch:74\tTrain Loss:0.382577751133893\tVal Loss:0.836628772710499\tTrain Score:0.7685\tVal Score:0.5838\tMax Score:0.6041\n",
            "Epoch:75\tTrain Loss:0.3932753813427848\tVal Loss:0.7779465803974553\tTrain Score:0.7643\tVal Score:0.5689\tMax Score:0.6041\n",
            "Epoch:76\tTrain Loss:0.40225618090983983\tVal Loss:0.8034226941434961\tTrain Score:0.7617\tVal Score:0.5686\tMax Score:0.6041\n",
            "Epoch:77\tTrain Loss:0.4007023492374936\tVal Loss:0.810776854816236\tTrain Score:0.7874\tVal Score:0.5787\tMax Score:0.6041\n",
            "Epoch:78\tTrain Loss:0.388115924355146\tVal Loss:0.814407229423523\tTrain Score:0.7413\tVal Score:0.5240\tMax Score:0.6041\n",
            "Epoch:79\tTrain Loss:0.37155116450142217\tVal Loss:0.8747828696903429\tTrain Score:0.7493\tVal Score:0.5343\tMax Score:0.6041\n",
            "Epoch:80\tTrain Loss:0.3856829489405091\tVal Loss:0.7746139027570423\tTrain Score:0.7970\tVal Score:0.5986\tMax Score:0.6041\n",
            "Epoch:81\tTrain Loss:0.3667521212954779\tVal Loss:0.8063920359862479\tTrain Score:0.7653\tVal Score:0.5657\tMax Score:0.6041\n",
            "Epoch:82\tTrain Loss:0.3548586884060422\tVal Loss:0.8194678519901476\tTrain Score:0.7881\tVal Score:0.5690\tMax Score:0.6041\n",
            "Epoch:83\tTrain Loss:0.35489267775335825\tVal Loss:0.7665192610339114\tTrain Score:0.7735\tVal Score:0.5652\tMax Score:0.6041\n",
            "Epoch:84\tTrain Loss:0.34631423108481074\tVal Loss:0.8275499422299234\tTrain Score:0.7846\tVal Score:0.5952\tMax Score:0.6041\n",
            "Epoch:85\tTrain Loss:0.37079985077316696\tVal Loss:0.8790602025232817\tTrain Score:0.7669\tVal Score:0.5692\tMax Score:0.6041\n",
            "Epoch:86\tTrain Loss:0.3603392201098236\tVal Loss:0.8088795621144144\tTrain Score:0.7856\tVal Score:0.5753\tMax Score:0.6041\n",
            "Epoch:87\tTrain Loss:0.34279980107739166\tVal Loss:0.8023963601965654\tTrain Score:0.8134\tVal Score:0.6056\tMax Score:0.6041\n",
            "Epoch:88\tTrain Loss:0.3476612398753295\tVal Loss:0.8123853018409327\tTrain Score:0.7985\tVal Score:0.5933\tMax Score:0.6056\n",
            "Epoch:89\tTrain Loss:0.34695773370362615\tVal Loss:0.7891959579367387\tTrain Score:0.8090\tVal Score:0.6061\tMax Score:0.6056\n",
            "Epoch:90\tTrain Loss:0.3463651815781722\tVal Loss:0.8334308298010575\tTrain Score:0.7945\tVal Score:0.5860\tMax Score:0.6061\n",
            "Epoch:91\tTrain Loss:0.37177770041130687\tVal Loss:0.8460967760337027\tTrain Score:0.7864\tVal Score:0.5862\tMax Score:0.6061\n",
            "Epoch:92\tTrain Loss:0.3385708348171131\tVal Loss:0.8625697932745281\tTrain Score:0.7916\tVal Score:0.5918\tMax Score:0.6061\n",
            "Epoch:93\tTrain Loss:0.369562897529151\tVal Loss:0.8920317417696902\tTrain Score:0.7853\tVal Score:0.5779\tMax Score:0.6061\n",
            "Epoch:94\tTrain Loss:0.3397037660753405\tVal Loss:0.7980596846655795\tTrain Score:0.8128\tVal Score:0.5983\tMax Score:0.6061\n",
            "Epoch:95\tTrain Loss:0.3525649452128926\tVal Loss:0.8630504921862954\tTrain Score:0.7888\tVal Score:0.5874\tMax Score:0.6061\n",
            "Epoch:96\tTrain Loss:0.36454131091768677\tVal Loss:0.8410222075487438\tTrain Score:0.7888\tVal Score:0.5952\tMax Score:0.6061\n",
            "Epoch:97\tTrain Loss:0.3273253452938956\tVal Loss:0.8855327038388503\tTrain Score:0.8071\tVal Score:0.5712\tMax Score:0.6061\n",
            "Epoch:98\tTrain Loss:0.3247546682486663\tVal Loss:0.8010843066792739\tTrain Score:0.8159\tVal Score:0.5934\tMax Score:0.6061\n",
            "Epoch:99\tTrain Loss:0.3389660375746521\tVal Loss:0.8537279492930362\tTrain Score:0.8082\tVal Score:0.5957\tMax Score:0.6061\n",
            "Epoch:100\tTrain Loss:0.33310609612915965\tVal Loss:0.8640757485439903\tTrain Score:0.7933\tVal Score:0.5901\tMax Score:0.6061\n",
            "Epoch:101\tTrain Loss:0.3318534815633619\tVal Loss:0.9274351439977947\tTrain Score:0.8050\tVal Score:0.5830\tMax Score:0.6061\n",
            "Epoch:102\tTrain Loss:0.31942772965978933\tVal Loss:0.9071032655866522\tTrain Score:0.8008\tVal Score:0.5718\tMax Score:0.6061\n",
            "Epoch:103\tTrain Loss:0.3317945873415148\tVal Loss:0.9103449018378007\tTrain Score:0.8054\tVal Score:0.5987\tMax Score:0.6061\n",
            "Epoch:104\tTrain Loss:0.32782056303443136\tVal Loss:0.8411676836641211\tTrain Score:0.7980\tVal Score:0.6103\tMax Score:0.6061\n",
            "Epoch:105\tTrain Loss:0.3225369177557327\tVal Loss:0.892523401661923\tTrain Score:0.8056\tVal Score:0.5554\tMax Score:0.6103\n",
            "Epoch:106\tTrain Loss:0.3363278886756381\tVal Loss:0.9348707575547067\tTrain Score:0.7868\tVal Score:0.5769\tMax Score:0.6103\n",
            "Epoch:107\tTrain Loss:0.33038240510064204\tVal Loss:0.8381550312042236\tTrain Score:0.8052\tVal Score:0.5957\tMax Score:0.6103\n",
            "Epoch:108\tTrain Loss:0.32282116133216265\tVal Loss:0.8899505201138949\tTrain Score:0.8073\tVal Score:0.5830\tMax Score:0.6103\n",
            "Epoch:109\tTrain Loss:0.3230118020563512\tVal Loss:0.8562041411274358\tTrain Score:0.8179\tVal Score:0.5962\tMax Score:0.6103\n",
            "Epoch:110\tTrain Loss:0.31133324230039444\tVal Loss:0.8389668652885839\tTrain Score:0.8224\tVal Score:0.6040\tMax Score:0.6103\n",
            "Epoch:111\tTrain Loss:0.3094283491373062\tVal Loss:0.8543188320963007\tTrain Score:0.8029\tVal Score:0.5939\tMax Score:0.6103\n",
            "Epoch:112\tTrain Loss:0.3311832742513837\tVal Loss:0.8582656320772672\tTrain Score:0.8220\tVal Score:0.5846\tMax Score:0.6103\n",
            "Epoch:113\tTrain Loss:0.3019821801902475\tVal Loss:0.9928011674630014\tTrain Score:0.7985\tVal Score:0.5614\tMax Score:0.6103\n",
            "Epoch:114\tTrain Loss:0.28945709201129705\tVal Loss:0.8917781773366427\tTrain Score:0.8278\tVal Score:0.5938\tMax Score:0.6103\n",
            "Epoch:115\tTrain Loss:0.296418386435992\tVal Loss:0.9819433971455223\tTrain Score:0.8074\tVal Score:0.5817\tMax Score:0.6103\n",
            "Epoch:116\tTrain Loss:0.2999486552702414\tVal Loss:0.8903305216839439\tTrain Score:0.8233\tVal Score:0.5922\tMax Score:0.6103\n",
            "Epoch:117\tTrain Loss:0.32395130315342463\tVal Loss:1.0722022778109501\tTrain Score:0.7578\tVal Score:0.5747\tMax Score:0.6103\n",
            "Epoch:118\tTrain Loss:0.35038642665824377\tVal Loss:0.9412645383885032\tTrain Score:0.7998\tVal Score:0.6033\tMax Score:0.6103\n",
            "Epoch:119\tTrain Loss:0.2934132256620639\tVal Loss:0.9182847157904976\tTrain Score:0.8184\tVal Score:0.5986\tMax Score:0.6103\n",
            "Epoch:120\tTrain Loss:0.3022652977221721\tVal Loss:0.9212704018542641\tTrain Score:0.8249\tVal Score:0.6037\tMax Score:0.6103\n",
            "Epoch:121\tTrain Loss:0.29258872447787104\tVal Loss:1.00002426693314\tTrain Score:0.8188\tVal Score:0.5819\tMax Score:0.6103\n",
            "Epoch:122\tTrain Loss:0.285712173057569\tVal Loss:0.9158900097796792\tTrain Score:0.8392\tVal Score:0.6014\tMax Score:0.6103\n",
            "Epoch:123\tTrain Loss:0.2908571644409283\tVal Loss:0.9882904683288775\tTrain Score:0.8047\tVal Score:0.5730\tMax Score:0.6103\n",
            "Epoch:124\tTrain Loss:0.2858393603080028\tVal Loss:0.9294089659264213\tTrain Score:0.8343\tVal Score:0.6105\tMax Score:0.6103\n",
            "Epoch:125\tTrain Loss:0.27981560637016556\tVal Loss:1.0253751230867285\tTrain Score:0.8386\tVal Score:0.6049\tMax Score:0.6105\n",
            "Epoch:126\tTrain Loss:0.2842116706274651\tVal Loss:0.9992635093237224\tTrain Score:0.8223\tVal Score:0.5858\tMax Score:0.6105\n",
            "Epoch:127\tTrain Loss:0.3110917865021809\tVal Loss:1.041573880534423\tTrain Score:0.8077\tVal Score:0.5825\tMax Score:0.6105\n",
            "Epoch:128\tTrain Loss:0.29069729773579417\tVal Loss:0.9570208882030687\tTrain Score:0.8223\tVal Score:0.5899\tMax Score:0.6105\n",
            "Epoch:129\tTrain Loss:0.29617861376420873\tVal Loss:1.0822342163638066\tTrain Score:0.8276\tVal Score:0.5946\tMax Score:0.6105\n",
            "Epoch:130\tTrain Loss:0.2821760440396296\tVal Loss:0.9605049694839277\tTrain Score:0.8254\tVal Score:0.6008\tMax Score:0.6105\n",
            "Epoch:131\tTrain Loss:0.27208266316636187\tVal Loss:1.0659161978646328\tTrain Score:0.8108\tVal Score:0.5833\tMax Score:0.6105\n",
            "Epoch:132\tTrain Loss:0.29844117073996645\tVal Loss:1.120479083374927\tTrain Score:0.8026\tVal Score:0.5619\tMax Score:0.6105\n",
            "Epoch:133\tTrain Loss:0.2907271296591372\tVal Loss:0.9515700434383593\tTrain Score:0.8437\tVal Score:0.6183\tMax Score:0.6105\n",
            "Epoch:134\tTrain Loss:0.3201959169394261\tVal Loss:1.0347012814722563\tTrain Score:0.8107\tVal Score:0.5828\tMax Score:0.6183\n",
            "Epoch:135\tTrain Loss:0.31894031388534083\tVal Loss:1.0173391746847253\tTrain Score:0.8255\tVal Score:0.5998\tMax Score:0.6183\n",
            "Epoch:136\tTrain Loss:0.2824758427167261\tVal Loss:0.9917961860957899\tTrain Score:0.8038\tVal Score:0.5951\tMax Score:0.6183\n",
            "Epoch:137\tTrain Loss:0.2943402697911134\tVal Loss:1.0446743682811135\tTrain Score:0.8103\tVal Score:0.5820\tMax Score:0.6183\n",
            "Epoch:138\tTrain Loss:0.2783467091015867\tVal Loss:0.9990320644880596\tTrain Score:0.8457\tVal Score:0.5779\tMax Score:0.6183\n",
            "Epoch:139\tTrain Loss:0.2639022898432371\tVal Loss:1.0132972190254612\tTrain Score:0.8527\tVal Score:0.5948\tMax Score:0.6183\n",
            "Epoch:140\tTrain Loss:0.2558417102775058\tVal Loss:1.1073724737292843\tTrain Score:0.8332\tVal Score:0.5915\tMax Score:0.6183\n",
            "Epoch:141\tTrain Loss:0.31419622958511917\tVal Loss:1.0865510168828463\tTrain Score:0.8126\tVal Score:0.5817\tMax Score:0.6183\n",
            "Epoch:142\tTrain Loss:0.29487362242228277\tVal Loss:1.1034881817667108\tTrain Score:0.8228\tVal Score:0.5849\tMax Score:0.6183\n",
            "Epoch:143\tTrain Loss:0.30706379391454364\tVal Loss:1.016543662861774\tTrain Score:0.8388\tVal Score:0.6036\tMax Score:0.6183\n",
            "Epoch:144\tTrain Loss:0.26850125173459183\tVal Loss:1.111805288415206\tTrain Score:0.8205\tVal Score:0.5825\tMax Score:0.6183\n",
            "Epoch:145\tTrain Loss:0.26942021641376857\tVal Loss:1.0386661730314557\tTrain Score:0.8668\tVal Score:0.5861\tMax Score:0.6183\n",
            "Epoch:146\tTrain Loss:0.26974677224014254\tVal Loss:0.9858029453377974\tTrain Score:0.8608\tVal Score:0.5979\tMax Score:0.6183\n",
            "Epoch:147\tTrain Loss:0.25992912033925186\tVal Loss:1.0500412065731852\tTrain Score:0.8378\tVal Score:0.6101\tMax Score:0.6183\n",
            "Epoch:148\tTrain Loss:0.2517406726004304\tVal Loss:1.0546203836014396\tTrain Score:0.8218\tVal Score:0.5975\tMax Score:0.6183\n",
            "Epoch:149\tTrain Loss:0.25716527329908834\tVal Loss:1.0200143801538568\tTrain Score:0.8469\tVal Score:0.5892\tMax Score:0.6183\n",
            "Epoch:150\tTrain Loss:0.2581061970543217\tVal Loss:1.0562906453483982\tTrain Score:0.8529\tVal Score:0.5938\tMax Score:0.6183\n",
            "Epoch:151\tTrain Loss:0.24207192447942658\tVal Loss:1.0668785540681136\tTrain Score:0.8557\tVal Score:0.5956\tMax Score:0.6183\n",
            "Epoch:152\tTrain Loss:0.28226599862446655\tVal Loss:1.103610330506375\tTrain Score:0.8518\tVal Score:0.5863\tMax Score:0.6183\n",
            "Epoch:153\tTrain Loss:0.2901983931660652\tVal Loss:1.0985547147299115\tTrain Score:0.8336\tVal Score:0.6006\tMax Score:0.6183\n",
            "Epoch:154\tTrain Loss:0.2960205984276694\tVal Loss:1.0417554284396924\tTrain Score:0.8383\tVal Score:0.6128\tMax Score:0.6183\n",
            "Epoch:155\tTrain Loss:0.2837617208023329\tVal Loss:1.1742112762049626\tTrain Score:0.8469\tVal Score:0.5940\tMax Score:0.6183\n",
            "Epoch:156\tTrain Loss:0.2476202746903574\tVal Loss:1.0594535658234043\tTrain Score:0.8320\tVal Score:0.6064\tMax Score:0.6183\n",
            "Epoch:157\tTrain Loss:0.23867490414429354\tVal Loss:1.090692140554127\tTrain Score:0.8617\tVal Score:0.5940\tMax Score:0.6183\n",
            "Epoch:158\tTrain Loss:0.2653975073952933\tVal Loss:1.0844403975888302\tTrain Score:0.8700\tVal Score:0.5851\tMax Score:0.6183\n",
            "Epoch:159\tTrain Loss:0.24729710716653514\tVal Loss:1.1230536260102923\tTrain Score:0.8566\tVal Score:0.6067\tMax Score:0.6183\n",
            "Epoch:160\tTrain Loss:0.25967996335915616\tVal Loss:1.0150900012568425\tTrain Score:0.8494\tVal Score:0.5942\tMax Score:0.6183\n",
            "Epoch:161\tTrain Loss:0.2527052232542554\tVal Loss:1.0926743494836908\tTrain Score:0.8485\tVal Score:0.6107\tMax Score:0.6183\n",
            "Epoch:162\tTrain Loss:0.25645586767712153\tVal Loss:1.1839485231198763\tTrain Score:0.8216\tVal Score:0.5791\tMax Score:0.6183\n",
            "Epoch:163\tTrain Loss:0.252003415412194\tVal Loss:1.2489114340982939\tTrain Score:0.8054\tVal Score:0.5745\tMax Score:0.6183\n",
            "Epoch:164\tTrain Loss:0.24722726995477806\tVal Loss:1.0684508053879989\tTrain Score:0.8690\tVal Score:0.6094\tMax Score:0.6183\n",
            "Epoch:165\tTrain Loss:0.2344548286417046\tVal Loss:1.089592485051406\tTrain Score:0.8382\tVal Score:0.5874\tMax Score:0.6183\n",
            "Epoch:166\tTrain Loss:0.25030837197964256\tVal Loss:1.2148789606596295\tTrain Score:0.8421\tVal Score:0.6061\tMax Score:0.6183\n",
            "Epoch:167\tTrain Loss:0.2960702302689488\tVal Loss:1.2642369301695573\tTrain Score:0.8383\tVal Score:0.5843\tMax Score:0.6183\n",
            "Epoch:168\tTrain Loss:0.2652598937620988\tVal Loss:1.119789885847192\tTrain Score:0.8519\tVal Score:0.6215\tMax Score:0.6183\n",
            "Epoch:169\tTrain Loss:0.2698621713631862\tVal Loss:1.1490312908825122\tTrain Score:0.8636\tVal Score:0.6031\tMax Score:0.6215\n",
            "Epoch:170\tTrain Loss:0.24458411819226034\tVal Loss:1.1487528462159007\tTrain Score:0.8456\tVal Score:0.5858\tMax Score:0.6215\n",
            "Epoch:171\tTrain Loss:0.2523430156949404\tVal Loss:1.213508587134512\tTrain Score:0.8475\tVal Score:0.5778\tMax Score:0.6215\n",
            "Epoch:172\tTrain Loss:0.24345604189344355\tVal Loss:1.1206284667316235\tTrain Score:0.8455\tVal Score:0.5780\tMax Score:0.6215\n",
            "Epoch:173\tTrain Loss:0.29597621249991496\tVal Loss:1.1237368379768573\tTrain Score:0.8284\tVal Score:0.5979\tMax Score:0.6215\n",
            "Epoch:174\tTrain Loss:0.2674456029324918\tVal Loss:1.1339507730383622\tTrain Score:0.8522\tVal Score:0.5982\tMax Score:0.6215\n",
            "Epoch:175\tTrain Loss:0.27341385497837456\tVal Loss:1.125546511850859\tTrain Score:0.8266\tVal Score:0.6020\tMax Score:0.6215\n",
            "Epoch:176\tTrain Loss:0.23406997735838633\tVal Loss:1.2354524104218734\tTrain Score:0.8510\tVal Score:0.5839\tMax Score:0.6215\n",
            "Epoch:177\tTrain Loss:0.24741059813547778\tVal Loss:1.1490683524232161\tTrain Score:0.8699\tVal Score:0.5913\tMax Score:0.6215\n",
            "Epoch:178\tTrain Loss:0.22143111810893626\tVal Loss:1.1263865593232607\tTrain Score:0.8671\tVal Score:0.5944\tMax Score:0.6215\n",
            "Epoch:179\tTrain Loss:0.23152951241747752\tVal Loss:1.1928049733764248\tTrain Score:0.8531\tVal Score:0.5917\tMax Score:0.6215\n",
            "Epoch:180\tTrain Loss:0.24138200700887152\tVal Loss:1.171492918541557\tTrain Score:0.8607\tVal Score:0.6060\tMax Score:0.6215\n",
            "Epoch:181\tTrain Loss:0.24114090314990766\tVal Loss:1.173196249886563\tTrain Score:0.8659\tVal Score:0.5863\tMax Score:0.6215\n",
            "Epoch:182\tTrain Loss:0.22853789397993604\tVal Loss:1.2187382798445852\tTrain Score:0.8529\tVal Score:0.5865\tMax Score:0.6215\n",
            "Epoch:183\tTrain Loss:0.2335523209861807\tVal Loss:1.197178028131786\tTrain Score:0.8658\tVal Score:0.6023\tMax Score:0.6215\n",
            "Epoch:184\tTrain Loss:0.2312339252314052\tVal Loss:1.140313954729783\tTrain Score:0.8461\tVal Score:0.5940\tMax Score:0.6215\n",
            "Epoch:185\tTrain Loss:0.26401073143288895\tVal Loss:1.2611560225486755\tTrain Score:0.8607\tVal Score:0.5874\tMax Score:0.6215\n",
            "Epoch:186\tTrain Loss:0.26355438870755404\tVal Loss:1.1945031598994607\tTrain Score:0.8775\tVal Score:0.5965\tMax Score:0.6215\n",
            "Epoch:187\tTrain Loss:0.2186747754143702\tVal Loss:1.2779382216302972\tTrain Score:0.8828\tVal Score:0.5872\tMax Score:0.6215\n",
            "Epoch:188\tTrain Loss:0.22422078161223516\tVal Loss:1.3060533216125088\tTrain Score:0.8326\tVal Score:0.5826\tMax Score:0.6215\n",
            "Epoch:189\tTrain Loss:0.2882472472013654\tVal Loss:1.252532133930608\tTrain Score:0.8561\tVal Score:0.5902\tMax Score:0.6215\n",
            "Epoch:190\tTrain Loss:0.23489303333131042\tVal Loss:1.2459696264643418\tTrain Score:0.8785\tVal Score:0.5888\tMax Score:0.6215\n",
            "Epoch:191\tTrain Loss:0.23208822914071986\tVal Loss:1.2500052012895282\tTrain Score:0.8428\tVal Score:0.5877\tMax Score:0.6215\n",
            "Epoch:192\tTrain Loss:0.22711063005231522\tVal Loss:1.21065354347229\tTrain Score:0.8460\tVal Score:0.5815\tMax Score:0.6215\n",
            "Epoch:193\tTrain Loss:0.2403413162038133\tVal Loss:1.1733236061899286\tTrain Score:0.8724\tVal Score:0.5857\tMax Score:0.6215\n",
            "Epoch:194\tTrain Loss:0.2170531854939622\tVal Loss:1.3106733466449536\tTrain Score:0.8747\tVal Score:0.6096\tMax Score:0.6215\n",
            "Epoch:195\tTrain Loss:0.21884914527873736\tVal Loss:1.3242642722631757\tTrain Score:0.8690\tVal Score:0.5917\tMax Score:0.6215\n",
            "Epoch:196\tTrain Loss:0.234824981439758\tVal Loss:1.2386984417313023\tTrain Score:0.8591\tVal Score:0.6174\tMax Score:0.6215\n",
            "Epoch:197\tTrain Loss:0.22983368214320493\tVal Loss:1.2935667979089838\tTrain Score:0.8764\tVal Score:0.5863\tMax Score:0.6215\n",
            "Epoch:198\tTrain Loss:0.21887932395612872\tVal Loss:1.3136125144205595\tTrain Score:0.8944\tVal Score:0.5945\tMax Score:0.6215\n",
            "Epoch:199\tTrain Loss:0.22157053951476072\tVal Loss:1.217232788863935\tTrain Score:0.8731\tVal Score:0.6045\tMax Score:0.6215\n"
          ],
          "name": "stdout"
        },
        {
          "output_type": "display_data",
          "data": {
            "image/png": "[encoded data removed]",
            "text/plain": [
              "<Figure size 432x288 with 2 Axes>"
            ]
          },
          "metadata": {
            "tags": [],
            "needs_background": "light"
          }
        }
      ]
    },
    {
      "cell_type": "markdown",
      "metadata": {
        "id": "PJQ-fAlaCRob"
      },
      "source": [
        "# TEST MODEL"
      ]
    },
    {
      "cell_type": "code",
      "metadata": {
        "id": "ePC-7R7CQq9z",
        "colab": {
          "base_uri": "https://localhost:8080/"
        },
        "outputId": "a3dbbd9a-19f3-4920-e70c-72a2a95e2561"
      },
      "source": [
        "print(\"#######################################################################\")\n",
        "print(\"LOAD MODEL\")\n",
        "model.load_state_dict(torch.load(os.path.join(MODEL_DIR, \"ANN.pt\")))\n",
        "model.eval()"
      ],
      "execution_count": null,
      "outputs": [
        {
          "output_type": "stream",
          "text": [
            "#######################################################################\n",
            "LOAD MODEL\n"
          ],
          "name": "stdout"
        },
        {
          "output_type": "execute_result",
          "data": {
            "text/plain": [
              "ANN(\n",
              "  (fc_1): Linear(in_features=259, out_features=32, bias=True)\n",
              "  (fc_2): Linear(in_features=32, out_features=3, bias=True)\n",
              "  (relu): ReLU()\n",
              ")"
            ]
          },
          "metadata": {
            "tags": []
          },
          "execution_count": 15
        }
      ]
    },
    {
      "cell_type": "code",
      "metadata": {
        "id": "IeW1RTw2QuqA",
        "colab": {
          "base_uri": "https://localhost:8080/",
          "height": 755
        },
        "outputId": "945adb98-03c6-4690-970b-cb70acebb8c8"
      },
      "source": [
        "print(\"#######################################################################\")\n",
        "print(\"TEST ON TRAIN SET\")\n",
        "pred_labels = np.zeros(len(train_loader)*batch_size).astype(np.int)\n",
        "true_labels = np.zeros(len(train_loader)*batch_size).astype(np.int)\n",
        "total = 0\n",
        "for batch, [data, labels] in enumerate(train_loader):\n",
        "    out = model(data.to('cuda'))\n",
        "    out = torch.argmax(torch.nn.functional.softmax(out, dim=1), dim=1)\n",
        "    pred_labels[total:total+len(labels)] = out.detach().cpu().numpy()\n",
        "    true_labels[total:total+len(labels)] = labels.cpu().numpy()\n",
        "    total += len(labels)\n",
        "pred_labels = pred_labels[:total]\n",
        "true_labels = true_labels[:total]\n",
        "print(\"Scores:\")\n",
        "print(classification_report(true_labels, pred_labels, target_names=le.classes_, digits=3))\n",
        "print(\"\\nConfusion_matrix:\")\n",
        "cm = confusion_matrix(true_labels, pred_labels)\n",
        "cm_df = pd.DataFrame(cm, le.classes_, le.classes_)                      \n",
        "plt.figure(figsize=(12,8))  \n",
        "sns.heatmap(cm_df, annot=True)"
      ],
      "execution_count": null,
      "outputs": [
        {
          "output_type": "stream",
          "text": [
            "#######################################################################\n",
            "TEST ON TRAIN SET\n",
            "Scores:\n",
            "              precision    recall  f1-score   support\n",
            "\n",
            "    negative      0.911     0.956     0.933      2457\n",
            "     neutral      0.900     0.852     0.875       738\n",
            "    positive      0.824     0.684     0.747       491\n",
            "\n",
            "    accuracy                          0.899      3686\n",
            "   macro avg      0.878     0.831     0.852      3686\n",
            "weighted avg      0.897     0.899     0.897      3686\n",
            "\n",
            "\n",
            "Confusion_matrix:\n"
          ],
          "name": "stdout"
        },
        {
          "output_type": "execute_result",
          "data": {
            "text/plain": [
              "<matplotlib.axes._subplots.AxesSubplot at 0x7f21836a5850>"
            ]
          },
          "metadata": {
            "tags": []
          },
          "execution_count": 16
        },
        {
          "output_type": "display_data",
          "data": {
            "image/png": "[encoded data removed]",
            "text/plain": [
              "<Figure size 864x576 with 2 Axes>"
            ]
          },
          "metadata": {
            "tags": [],
            "needs_background": "light"
          }
        }
      ]
    },
    {
      "cell_type": "code",
      "metadata": {
        "colab": {
          "base_uri": "https://localhost:8080/",
          "height": 755
        },
        "id": "DY9sIeLiQ8n3",
        "outputId": "a5765df7-ec2d-44b5-8eee-054af99e93b8"
      },
      "source": [
        "print(\"#######################################################################\")\n",
        "print(\"TEST ON VAL SET\")\n",
        "pred_labels = np.zeros(len(val_loader)*batch_size).astype(np.int)\n",
        "true_labels = np.zeros(len(val_loader)*batch_size).astype(np.int)\n",
        "total = 0\n",
        "for batch, [data, labels] in enumerate(val_loader):\n",
        "    out = model(data.to('cuda'))\n",
        "    out = torch.argmax(torch.nn.functional.softmax(out, dim=1), dim=1)\n",
        "    pred_labels[total:total+len(labels)] = out.detach().cpu().numpy()\n",
        "    true_labels[total:total+len(labels)] = labels.cpu().numpy()\n",
        "    total += len(labels)\n",
        "pred_labels = pred_labels[:total]\n",
        "true_labels = true_labels[:total]\n",
        "print(\"Scores:\")\n",
        "print(classification_report(true_labels, pred_labels, target_names=le.classes_, digits=3))\n",
        "print(\"\\nConfusion_matrix:\")\n",
        "cm = confusion_matrix(true_labels, pred_labels)\n",
        "cm_df = pd.DataFrame(cm, le.classes_, le.classes_)                      \n",
        "plt.figure(figsize=(12,8))  \n",
        "sns.heatmap(cm_df, annot=True)"
      ],
      "execution_count": null,
      "outputs": [
        {
          "output_type": "stream",
          "text": [
            "#######################################################################\n",
            "TEST ON VAL SET\n",
            "Scores:\n",
            "              precision    recall  f1-score   support\n",
            "\n",
            "    negative      0.807     0.841     0.823       615\n",
            "     neutral      0.663     0.641     0.652       184\n",
            "    positive      0.427     0.358     0.389       123\n",
            "\n",
            "    accuracy                          0.736       922\n",
            "   macro avg      0.632     0.613     0.622       922\n",
            "weighted avg      0.727     0.736     0.731       922\n",
            "\n",
            "\n",
            "Confusion_matrix:\n"
          ],
          "name": "stdout"
        },
        {
          "output_type": "execute_result",
          "data": {
            "text/plain": [
              "<matplotlib.axes._subplots.AxesSubplot at 0x7f212452d8d0>"
            ]
          },
          "metadata": {
            "tags": []
          },
          "execution_count": 17
        },
        {
          "output_type": "display_data",
          "data": {
            "image/png": "[encoded data removed]",
            "text/plain": [
              "<Figure size 864x576 with 2 Axes>"
            ]
          },
          "metadata": {
            "tags": [],
            "needs_background": "light"
          }
        }
      ]
    },
    {
      "cell_type": "code",
      "metadata": {
        "colab": {
          "base_uri": "https://localhost:8080/",
          "height": 755
        },
        "id": "yhdN88IGGobE",
        "outputId": "65a80c03-3c7c-46b7-f7ee-7170f62cd3ec"
      },
      "source": [
        "print(\"#######################################################################\")\n",
        "print(\"TEST ON TEST SET\")\n",
        "pred_labels = np.zeros(len(test_loader)*batch_size).astype(np.int)\n",
        "true_labels = np.zeros(len(test_loader)*batch_size).astype(np.int)\n",
        "total = 0\n",
        "for batch, [data, labels] in enumerate(test_loader):\n",
        "    out = model(data.to('cuda'))\n",
        "    out = torch.argmax(torch.nn.functional.softmax(out, dim=1), dim=1)\n",
        "    pred_labels[total:total+len(labels)] = out.detach().cpu().numpy()\n",
        "    true_labels[total:total+len(labels)] = labels.cpu().numpy()\n",
        "    total += len(labels)\n",
        "pred_labels = pred_labels[:total]\n",
        "true_labels = true_labels[:total]\n",
        "print(\"Scores:\")\n",
        "print(classification_report(true_labels, pred_labels, target_names=le.classes_, digits=3))\n",
        "print(\"\\nConfusion_matrix:\")\n",
        "cm = confusion_matrix(true_labels, pred_labels)\n",
        "cm_df = pd.DataFrame(cm, le.classes_, le.classes_)                      \n",
        "plt.figure(figsize=(12,8))  \n",
        "sns.heatmap(cm_df, annot=True)"
      ],
      "execution_count": null,
      "outputs": [
        {
          "output_type": "stream",
          "text": [
            "#######################################################################\n",
            "TEST ON TEST SET\n",
            "Scores:\n",
            "              precision    recall  f1-score   support\n",
            "\n",
            "    negative      0.797     0.815     0.806       768\n",
            "     neutral      0.570     0.552     0.561       230\n",
            "    positive      0.444     0.416     0.430       154\n",
            "\n",
            "    accuracy                          0.709      1152\n",
            "   macro avg      0.604     0.594     0.599      1152\n",
            "weighted avg      0.705     0.709     0.707      1152\n",
            "\n",
            "\n",
            "Confusion_matrix:\n"
          ],
          "name": "stdout"
        },
        {
          "output_type": "execute_result",
          "data": {
            "text/plain": [
              "<matplotlib.axes._subplots.AxesSubplot at 0x7f212449fed0>"
            ]
          },
          "metadata": {
            "tags": []
          },
          "execution_count": 18
        },
        {
          "output_type": "display_data",
          "data": {
            "image/png": "[encoded data removed]",
            "text/plain": [
              "<Figure size 864x576 with 2 Axes>"
            ]
          },
          "metadata": {
            "tags": [],
            "needs_background": "light"
          }
        }
      ]
    }
  ]
}