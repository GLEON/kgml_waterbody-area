{
 "cells": [
  {
   "cell_type": "markdown",
   "metadata": {
    "id": "VqnxVk9MDTFZ"
   },
   "source": [
    "# IMPORT LIBRARIES"
   ]
  },
  {
   "cell_type": "code",
   "execution_count": 3,
   "metadata": {
    "executionInfo": {
     "elapsed": 5051,
     "status": "ok",
     "timestamp": 1616415455998,
     "user": {
      "displayName": "Rahul Ghosh",
      "photoUrl": "https://lh3.googleusercontent.com/a-/AOh14GjeAjOP7jm4Gi4wA1PP_KWWF3bfTVMaEW9-QfEG=s64",
      "userId": "14656825252273565053"
     },
     "user_tz": 300
    },
    "id": "zhDfqf127zYt"
   },
   "outputs": [],
   "source": [
    "import os\n",
    "import numpy as np\n",
    "import pandas as pd\n",
    "import seaborn as sns\n",
    "import matplotlib.pyplot as plt\n",
    "from collections import Counter\n",
    "import torch\n",
    "from torch.utils.data.dataset import Dataset\n",
    "from sklearn.model_selection import train_test_split\n",
    "from sklearn.metrics import f1_score, confusion_matrix, classification_report\n",
    "from sklearn.preprocessing import StandardScaler, LabelEncoder"
   ]
  },
  {
   "cell_type": "markdown",
   "metadata": {
    "id": "0v5ZdGjR7lLh"
   },
   "source": [
    "# CONNECT GOOGLE DRIVE (DATA DIRECTORY) TO GOOGLE COLAB"
   ]
  },
  {
   "cell_type": "code",
   "execution_count": 1,
   "metadata": {
    "colab": {
     "base_uri": "https://localhost:8080/"
    },
    "executionInfo": {
     "elapsed": 28057,
     "status": "ok",
     "timestamp": 1616415434778,
     "user": {
      "displayName": "Rahul Ghosh",
      "photoUrl": "https://lh3.googleusercontent.com/a-/AOh14GjeAjOP7jm4Gi4wA1PP_KWWF3bfTVMaEW9-QfEG=s64",
      "userId": "14656825252273565053"
     },
     "user_tz": 300
    },
    "id": "1ssr6pMN-xNL",
    "outputId": "22f63175-8252-45ee-ea7f-4f8b18681527"
   },
   "outputs": [
    {
     "name": "stdout",
     "output_type": "stream",
     "text": [
      "Mounted at /content/drive\n"
     ]
    }
   ],
   "source": [
    "from google.colab import drive\n",
    "drive.mount('/content/drive')"
   ]
  },
  {
   "cell_type": "code",
   "execution_count": 5,
   "metadata": {
    "executionInfo": {
     "elapsed": 587,
     "status": "ok",
     "timestamp": 1616415481669,
     "user": {
      "displayName": "Rahul Ghosh",
      "photoUrl": "https://lh3.googleusercontent.com/a-/AOh14GjeAjOP7jm4Gi4wA1PP_KWWF3bfTVMaEW9-QfEG=s64",
      "userId": "14656825252273565053"
     },
     "user_tz": 300
    },
    "id": "9lH32j6G-9y0"
   },
   "outputs": [],
   "source": [
    "DATASET = 'EMOTION_DATASET'\n",
    "BASE_DIR = os.path.join(\"/content/drive/Shareddrives/Lake Meeting/\")\n",
    "INPUT_DIR = os.path.join(BASE_DIR, 'INPUT', DATASET)\n",
    "\n",
    "YOUR_NAME = \"Test\" # Put your name here so that it creates your directory of outputs\n",
    "YOUR_DIR = os.path.join(BASE_DIR, \"OUTPUT\", YOUR_NAME, DATASET)\n",
    "NUMPY_DIR = os.path.join(YOUR_DIR, 'NUMPY')\n",
    "MODEL_DIR = os.path.join(YOUR_DIR, 'MODEL')\n",
    "RESULT_DIR = os.path.join(YOUR_DIR, 'RESULT')\n",
    "\n",
    "if not os.path.exists(NUMPY_DIR):\n",
    "    os.makedirs(NUMPY_DIR)\n",
    "if not os.path.exists(MODEL_DIR):\n",
    "    os.makedirs(MODEL_DIR)\n",
    "if not os.path.exists(RESULT_DIR):\n",
    "    os.makedirs(RESULT_DIR)"
   ]
  },
  {
   "cell_type": "markdown",
   "metadata": {
    "id": "B1tO8fX68j0Q"
   },
   "source": [
    "This notebook solves the time-series classification problem using Multi-layer Perceptron model. We solve the emotion classification problem where the input is a time series of length 259 and the classes are positive, neutral and negative emotion."
   ]
  },
  {
   "cell_type": "markdown",
   "metadata": {
    "id": "3m5ocnVaEfdf"
   },
   "source": [
    "## HYPERPARAMETERS"
   ]
  },
  {
   "cell_type": "code",
   "execution_count": 6,
   "metadata": {
    "executionInfo": {
     "elapsed": 470,
     "status": "ok",
     "timestamp": 1616415507762,
     "user": {
      "displayName": "Rahul Ghosh",
      "photoUrl": "https://lh3.googleusercontent.com/a-/AOh14GjeAjOP7jm4Gi4wA1PP_KWWF3bfTVMaEW9-QfEG=s64",
      "userId": "14656825252273565053"
     },
     "user_tz": 300
    },
    "id": "gYLHcjgW7xKD"
   },
   "outputs": [],
   "source": [
    "batch_size = 50\n",
    "time_steps = 259\n",
    "channels = 1 \n",
    "classes = 3\n",
    "learning_rate = 0.005\n",
    "epochs = 200"
   ]
  },
  {
   "cell_type": "markdown",
   "metadata": {
    "id": "YJWyBH2_B8Xa"
   },
   "source": [
    "# LOADING DATA"
   ]
  },
  {
   "cell_type": "code",
   "execution_count": 7,
   "metadata": {
    "colab": {
     "base_uri": "https://localhost:8080/"
    },
    "executionInfo": {
     "elapsed": 3367,
     "status": "ok",
     "timestamp": 1616415513409,
     "user": {
      "displayName": "Rahul Ghosh",
      "photoUrl": "https://lh3.googleusercontent.com/a-/AOh14GjeAjOP7jm4Gi4wA1PP_KWWF3bfTVMaEW9-QfEG=s64",
      "userId": "14656825252273565053"
     },
     "user_tz": 300
    },
    "id": "pRjT9SkWncKz",
    "outputId": "a734d504-25ef-43fe-af9a-8bf4f6d41b06"
   },
   "outputs": [
    {
     "name": "stdout",
     "output_type": "stream",
     "text": [
      "#######################################################################\n",
      "LOAD DATA\n",
      "(5760, 259) (5760,)\n",
      "#######################################################################\n",
      "TRAIN VAL TEST SPLIT\n",
      "(3686, 259) (3686,) Counter({'negative': 2457, 'neutral': 738, 'positive': 491})\n",
      "(922, 259) (922,) Counter({'negative': 615, 'neutral': 184, 'positive': 123})\n",
      "(1152, 259) (1152,) Counter({'negative': 768, 'neutral': 230, 'positive': 154})\n",
      "#######################################################################\n",
      "PREPROCESS LABELS\n",
      "CLASSES:['negative' 'neutral' 'positive']\n",
      "#######################################################################\n",
      "PREPROCESS INPUTS\n",
      "#######################################################################\n",
      "DATA LOADER\n",
      "Train batch:74\tVal batch:19\tTest batch:24\n"
     ]
    }
   ],
   "source": [
    "print(\"#######################################################################\")\n",
    "print(\"LOAD DATA\")\n",
    "X = np.load(os.path.join(INPUT_DIR, \"X_3_emotion_all_augmented_1.npy\"), allow_pickle = True).astype(np.float32)\n",
    "y = np.load(os.path.join(INPUT_DIR, \"y_3_emotion_all_augmented_1.npy\"), allow_pickle = True)\n",
    "print(X.shape, y.shape)\n",
    "\n",
    "print(\"#######################################################################\")\n",
    "print(\"TRAIN VAL TEST SPLIT\")\n",
    "train_X, test_X, train_y, test_y = train_test_split(X, y, test_size=0.2, random_state=42, stratify=y)\n",
    "train_X, val_X, train_y, val_y = train_test_split(train_X, train_y, test_size=0.2, random_state=42, stratify=train_y)\n",
    "print(train_X.shape, train_y.shape, Counter(train_y))\n",
    "print(val_X.shape, val_y.shape, Counter(val_y))\n",
    "print(test_X.shape, test_y.shape, Counter(test_y))\n",
    "\n",
    "print(\"#######################################################################\")\n",
    "print(\"PREPROCESS LABELS\")\n",
    "le = LabelEncoder()\n",
    "le.fit(train_y)\n",
    "print(\"CLASSES:{}\".format(le.classes_))\n",
    "train_y = le.transform(train_y)\n",
    "val_y = le.transform(val_y)\n",
    "test_y = le.transform(test_y)\n",
    "\n",
    "print(\"#######################################################################\")\n",
    "print(\"PREPROCESS INPUTS\")\n",
    "mean = np.mean(train_X)\n",
    "std = np.std(train_X)\n",
    "train_X = (train_X - mean)/std\n",
    "val_X = (val_X - mean)/std\n",
    "test_X = (test_X - mean)/std\n",
    "\n",
    "print(\"#######################################################################\")\n",
    "print(\"DATA LOADER\")\n",
    "class loader(Dataset):\n",
    "\n",
    "    def __init__(self, X, y):\n",
    "        self.data = X\n",
    "        self.labels = y\n",
    "\n",
    "    def __len__(self):\n",
    "        return len(self.labels)\n",
    "\n",
    "    def __getitem__(self, index):\n",
    "        return self.data[index], self.labels[index]\n",
    "\n",
    "train_data = loader(X=train_X, y=train_y)\n",
    "train_loader = torch.utils.data.DataLoader(dataset=train_data, batch_size=batch_size, shuffle=True, num_workers=0)\n",
    "val_data = loader(X=val_X, y=val_y)\n",
    "val_loader = torch.utils.data.DataLoader(dataset=val_data, batch_size=batch_size, shuffle=True, num_workers=0)\n",
    "test_data = loader(X=test_X, y=test_y)\n",
    "test_loader = torch.utils.data.DataLoader(dataset=test_data, batch_size=batch_size, shuffle=True, num_workers=0)\n",
    "print(\"Train batch:{}\\tVal batch:{}\\tTest batch:{}\".format(len(train_loader), len(val_loader), len(test_loader)))"
   ]
  },
  {
   "cell_type": "markdown",
   "metadata": {
    "id": "dkxa1aQgCC2A"
   },
   "source": [
    "# DEFINE MODEL"
   ]
  },
  {
   "cell_type": "code",
   "execution_count": 8,
   "metadata": {
    "colab": {
     "base_uri": "https://localhost:8080/"
    },
    "executionInfo": {
     "elapsed": 9162,
     "status": "ok",
     "timestamp": 1616415527238,
     "user": {
      "displayName": "Rahul Ghosh",
      "photoUrl": "https://lh3.googleusercontent.com/a-/AOh14GjeAjOP7jm4Gi4wA1PP_KWWF3bfTVMaEW9-QfEG=s64",
      "userId": "14656825252273565053"
     },
     "user_tz": 300
    },
    "id": "4uAs0LVjzSrp",
    "outputId": "1adda2c6-fc16-4ed8-d251-6c95c8512487"
   },
   "outputs": [
    {
     "name": "stdout",
     "output_type": "stream",
     "text": [
      "#######################################################################\n",
      "DEFINE MODEL\n",
      "#######################################################################\n",
      "BUILD MODEL\n",
      "ANN(\n",
      "  (fc_1): Linear(in_features=259, out_features=32, bias=True)\n",
      "  (fc_2): Linear(in_features=32, out_features=3, bias=True)\n",
      "  (relu): ReLU()\n",
      ")\n"
     ]
    }
   ],
   "source": [
    "print(\"#######################################################################\")\n",
    "print(\"DEFINE MODEL\")\n",
    "class ANN(torch.nn.Module):\n",
    "    def __init__(self, in_channels, out_channels):\n",
    "        super(ANN,self).__init__()\n",
    "        self.fc_1 = torch.nn.Linear(in_channels, 32)\n",
    "        self.fc_2 = torch.nn.Linear(32, out_channels)\n",
    "\n",
    "        self.relu = torch.nn.ReLU()\n",
    "\n",
    "        for m in self.modules():\n",
    "            if isinstance(m, torch.nn.Conv2d) or isinstance(m, torch.nn.Linear):\n",
    "                torch.nn.init.xavier_uniform_(m.weight)\n",
    "\n",
    "    def forward(self,x):\n",
    "        x_fc_1 = self.relu(self.fc_1(x))\n",
    "        out = self.fc_2(x_fc_1)\n",
    "        return out\n",
    "\n",
    "print(\"#######################################################################\")\n",
    "print(\"BUILD MODEL\")\n",
    "model = ANN(in_channels=time_steps, out_channels=classes)\n",
    "model = model.to('cuda')\n",
    "optimizer = torch.optim.Adam(model.parameters(), lr=learning_rate)\n",
    "criterion = torch.nn.CrossEntropyLoss()\n",
    "\n",
    "print(model)"
   ]
  },
  {
   "cell_type": "markdown",
   "metadata": {
    "id": "lNzh-fmTCIPQ"
   },
   "source": [
    "# TRAINING MODEL"
   ]
  },
  {
   "cell_type": "code",
   "execution_count": 9,
   "metadata": {
    "colab": {
     "base_uri": "https://localhost:8080/",
     "height": 1000
    },
    "executionInfo": {
     "elapsed": 50039,
     "status": "ok",
     "timestamp": 1616415579994,
     "user": {
      "displayName": "Rahul Ghosh",
      "photoUrl": "https://lh3.googleusercontent.com/a-/AOh14GjeAjOP7jm4Gi4wA1PP_KWWF3bfTVMaEW9-QfEG=s64",
      "userId": "14656825252273565053"
     },
     "user_tz": 300
    },
    "id": "7qC-j9nX2zqz",
    "outputId": "eb4d1acd-ea7b-40af-893a-e44993671d5b"
   },
   "outputs": [
    {
     "name": "stdout",
     "output_type": "stream",
     "text": [
      "#######################################################################\n",
      "TRAIN MODEL\n",
      "Epoch:1\tTrain Loss:0.8596377759366423\tVal Loss:0.8057437915551035\tTrain Score:0.4027\tVal Score:0.3640\tMax Score:0.0000\n",
      "Epoch:2\tTrain Loss:0.7730934418536521\tVal Loss:0.7693616120438826\tTrain Score:0.4205\tVal Score:0.3760\tMax Score:0.3640\n",
      "Epoch:3\tTrain Loss:0.7535801102986207\tVal Loss:0.7722548120900204\tTrain Score:0.4187\tVal Score:0.3667\tMax Score:0.3760\n",
      "Epoch:4\tTrain Loss:0.7385395507554751\tVal Loss:0.7704226531480488\tTrain Score:0.4527\tVal Score:0.4095\tMax Score:0.3760\n",
      "Epoch:5\tTrain Loss:0.7235937625975222\tVal Loss:0.7428111747691506\tTrain Score:0.4711\tVal Score:0.4029\tMax Score:0.4095\n",
      "Epoch:6\tTrain Loss:0.7089672813544402\tVal Loss:0.7548330771295648\tTrain Score:0.4472\tVal Score:0.4044\tMax Score:0.4095\n",
      "Epoch:7\tTrain Loss:0.6908591655460564\tVal Loss:0.7381765685583416\tTrain Score:0.5065\tVal Score:0.4490\tMax Score:0.4095\n",
      "Epoch:8\tTrain Loss:0.6838811156717507\tVal Loss:0.7276068690576052\tTrain Score:0.5139\tVal Score:0.4678\tMax Score:0.4490\n",
      "Epoch:9\tTrain Loss:0.6683676021324622\tVal Loss:0.7397684611772236\tTrain Score:0.5060\tVal Score:0.4496\tMax Score:0.4678\n",
      "Epoch:10\tTrain Loss:0.6721822212676745\tVal Loss:0.7071419295511747\tTrain Score:0.5176\tVal Score:0.4903\tMax Score:0.4678\n",
      "Epoch:11\tTrain Loss:0.6565145874345625\tVal Loss:0.7069908411879289\tTrain Score:0.5232\tVal Score:0.4820\tMax Score:0.4903\n",
      "Epoch:12\tTrain Loss:0.6498656707840997\tVal Loss:0.6990920744444195\tTrain Score:0.5297\tVal Score:0.4756\tMax Score:0.4903\n",
      "Epoch:13\tTrain Loss:0.6385591795315614\tVal Loss:0.6946410505395186\tTrain Score:0.5445\tVal Score:0.4885\tMax Score:0.4903\n",
      "Epoch:14\tTrain Loss:0.6373604246087976\tVal Loss:0.6970783879882411\tTrain Score:0.5477\tVal Score:0.4988\tMax Score:0.4903\n",
      "Epoch:15\tTrain Loss:0.6239939787097879\tVal Loss:0.6957102606171056\tTrain Score:0.5753\tVal Score:0.5066\tMax Score:0.4988\n",
      "Epoch:16\tTrain Loss:0.6365999575402286\tVal Loss:0.7168474322871158\tTrain Score:0.5829\tVal Score:0.4892\tMax Score:0.5066\n",
      "Epoch:17\tTrain Loss:0.6177302478133021\tVal Loss:0.6917370651897631\tTrain Score:0.5593\tVal Score:0.4856\tMax Score:0.5066\n",
      "Epoch:18\tTrain Loss:0.6059191190713161\tVal Loss:0.753636614272469\tTrain Score:0.5434\tVal Score:0.4596\tMax Score:0.5066\n",
      "Epoch:19\tTrain Loss:0.5908268935777046\tVal Loss:0.7245836273620003\tTrain Score:0.5711\tVal Score:0.4810\tMax Score:0.5066\n",
      "Epoch:20\tTrain Loss:0.5931025586418204\tVal Loss:0.6995802113884374\tTrain Score:0.5987\tVal Score:0.5056\tMax Score:0.5066\n",
      "Epoch:21\tTrain Loss:0.588336640515843\tVal Loss:0.6988560118173298\tTrain Score:0.5949\tVal Score:0.5223\tMax Score:0.5066\n",
      "Epoch:22\tTrain Loss:0.5804432703031076\tVal Loss:0.7075803201449545\tTrain Score:0.6032\tVal Score:0.5125\tMax Score:0.5223\n",
      "Epoch:23\tTrain Loss:0.579352804535144\tVal Loss:0.709315067843387\tTrain Score:0.6212\tVal Score:0.5324\tMax Score:0.5223\n",
      "Epoch:24\tTrain Loss:0.5638332862306286\tVal Loss:0.7071143294635572\tTrain Score:0.6062\tVal Score:0.5169\tMax Score:0.5324\n",
      "Epoch:25\tTrain Loss:0.563515692949295\tVal Loss:0.7277839999449881\tTrain Score:0.6229\tVal Score:0.5303\tMax Score:0.5324\n",
      "Epoch:26\tTrain Loss:0.5619014642528586\tVal Loss:0.7117302229529933\tTrain Score:0.6156\tVal Score:0.5294\tMax Score:0.5324\n",
      "Epoch:27\tTrain Loss:0.5513916579452721\tVal Loss:0.7021832732777846\tTrain Score:0.6359\tVal Score:0.5282\tMax Score:0.5324\n",
      "Epoch:28\tTrain Loss:0.5432270165230777\tVal Loss:0.7204338359205347\tTrain Score:0.6129\tVal Score:0.5208\tMax Score:0.5324\n",
      "Epoch:29\tTrain Loss:0.5336056242923479\tVal Loss:0.6922804681878341\tTrain Score:0.6492\tVal Score:0.5458\tMax Score:0.5324\n",
      "Epoch:30\tTrain Loss:0.5283339881413692\tVal Loss:0.6909204203831522\tTrain Score:0.6698\tVal Score:0.5447\tMax Score:0.5458\n",
      "Epoch:31\tTrain Loss:0.533162492755297\tVal Loss:0.7120777431287264\tTrain Score:0.6291\tVal Score:0.5393\tMax Score:0.5458\n",
      "Epoch:32\tTrain Loss:0.5362941260273392\tVal Loss:0.7080864467118916\tTrain Score:0.6582\tVal Score:0.5311\tMax Score:0.5458\n",
      "Epoch:33\tTrain Loss:0.5127383313468985\tVal Loss:0.7191402755285564\tTrain Score:0.6660\tVal Score:0.5222\tMax Score:0.5458\n",
      "Epoch:34\tTrain Loss:0.5074397510773426\tVal Loss:0.7285099468733135\tTrain Score:0.6621\tVal Score:0.5326\tMax Score:0.5458\n",
      "Epoch:35\tTrain Loss:0.5317138211952673\tVal Loss:0.7193430756267748\tTrain Score:0.6127\tVal Score:0.5185\tMax Score:0.5458\n",
      "Epoch:36\tTrain Loss:0.5157302102527103\tVal Loss:0.7116911395599967\tTrain Score:0.6806\tVal Score:0.5612\tMax Score:0.5458\n",
      "Epoch:37\tTrain Loss:0.49730897835783056\tVal Loss:0.7324014462922749\tTrain Score:0.6808\tVal Score:0.5751\tMax Score:0.5612\n",
      "Epoch:38\tTrain Loss:0.49975378529445547\tVal Loss:0.7213013799566972\tTrain Score:0.6689\tVal Score:0.5415\tMax Score:0.5751\n",
      "Epoch:39\tTrain Loss:0.5001306779481269\tVal Loss:0.7461438069218084\tTrain Score:0.6692\tVal Score:0.5129\tMax Score:0.5751\n",
      "Epoch:40\tTrain Loss:0.4710840619093663\tVal Loss:0.7326178472293051\tTrain Score:0.6977\tVal Score:0.5319\tMax Score:0.5751\n",
      "Epoch:41\tTrain Loss:0.481283430714865\tVal Loss:0.7723897256349262\tTrain Score:0.6582\tVal Score:0.5352\tMax Score:0.5751\n",
      "Epoch:42\tTrain Loss:0.46200980890441584\tVal Loss:0.7817038721159885\tTrain Score:0.6564\tVal Score:0.5206\tMax Score:0.5751\n",
      "Epoch:43\tTrain Loss:0.46810914696873845\tVal Loss:0.7334405026937786\tTrain Score:0.7131\tVal Score:0.5643\tMax Score:0.5751\n",
      "Epoch:44\tTrain Loss:0.4633472110774066\tVal Loss:0.7311377995892575\tTrain Score:0.7133\tVal Score:0.5485\tMax Score:0.5751\n",
      "Epoch:45\tTrain Loss:0.45547021522715286\tVal Loss:0.7458056415382185\tTrain Score:0.7222\tVal Score:0.5508\tMax Score:0.5751\n",
      "Epoch:46\tTrain Loss:0.44545244385261795\tVal Loss:0.7916578995554071\tTrain Score:0.7288\tVal Score:0.5489\tMax Score:0.5751\n",
      "Epoch:47\tTrain Loss:0.45126955331982793\tVal Loss:0.766055144761738\tTrain Score:0.7143\tVal Score:0.5430\tMax Score:0.5751\n",
      "Epoch:48\tTrain Loss:0.4390973517218152\tVal Loss:0.7804722362443021\tTrain Score:0.7272\tVal Score:0.5554\tMax Score:0.5751\n",
      "Epoch:49\tTrain Loss:0.4373130025090398\tVal Loss:0.8396531923821098\tTrain Score:0.6995\tVal Score:0.5157\tMax Score:0.5751\n",
      "Epoch:50\tTrain Loss:0.4383158784460377\tVal Loss:0.7825064800287548\tTrain Score:0.7148\tVal Score:0.5434\tMax Score:0.5751\n",
      "Epoch:51\tTrain Loss:0.4487567737295821\tVal Loss:0.7598814054539329\tTrain Score:0.7267\tVal Score:0.5797\tMax Score:0.5751\n",
      "Epoch:52\tTrain Loss:0.4394690877682454\tVal Loss:0.7780563580362421\tTrain Score:0.7348\tVal Score:0.5454\tMax Score:0.5797\n",
      "Epoch:53\tTrain Loss:0.42856279297454936\tVal Loss:0.7894755695995531\tTrain Score:0.7592\tVal Score:0.5454\tMax Score:0.5797\n",
      "Epoch:54\tTrain Loss:0.4230013888429951\tVal Loss:0.8356745399926838\tTrain Score:0.7245\tVal Score:0.5124\tMax Score:0.5797\n",
      "Epoch:55\tTrain Loss:0.42000944690929876\tVal Loss:0.7880505480264363\tTrain Score:0.7420\tVal Score:0.5557\tMax Score:0.5797\n",
      "Epoch:56\tTrain Loss:0.407714703799905\tVal Loss:0.7809122173409713\tTrain Score:0.7591\tVal Score:0.5669\tMax Score:0.5797\n",
      "Epoch:57\tTrain Loss:0.413489729770132\tVal Loss:0.8433621321853838\tTrain Score:0.7363\tVal Score:0.5702\tMax Score:0.5797\n",
      "Epoch:58\tTrain Loss:0.42188577817098516\tVal Loss:0.8622326788149381\tTrain Score:0.7636\tVal Score:0.5428\tMax Score:0.5797\n",
      "Epoch:59\tTrain Loss:0.3910582385755874\tVal Loss:0.8005977147503903\tTrain Score:0.7775\tVal Score:0.5670\tMax Score:0.5797\n",
      "Epoch:60\tTrain Loss:0.39144830909129735\tVal Loss:0.8859652469032689\tTrain Score:0.7461\tVal Score:0.5639\tMax Score:0.5797\n",
      "Epoch:61\tTrain Loss:0.43267201571851166\tVal Loss:0.8544696867465973\tTrain Score:0.7222\tVal Score:0.5499\tMax Score:0.5797\n",
      "Epoch:62\tTrain Loss:0.38521085377480535\tVal Loss:0.7891844024783686\tTrain Score:0.7820\tVal Score:0.5753\tMax Score:0.5797\n",
      "Epoch:63\tTrain Loss:0.4095947537067774\tVal Loss:0.8506424913280889\tTrain Score:0.7817\tVal Score:0.5520\tMax Score:0.5797\n",
      "Epoch:64\tTrain Loss:0.39210576805714015\tVal Loss:0.8601021766662598\tTrain Score:0.7574\tVal Score:0.5550\tMax Score:0.5797\n",
      "Epoch:65\tTrain Loss:0.3768616522083411\tVal Loss:0.7966322679268686\tTrain Score:0.7909\tVal Score:0.5976\tMax Score:0.5797\n",
      "Epoch:66\tTrain Loss:0.36197940743452794\tVal Loss:0.8241031938477567\tTrain Score:0.7913\tVal Score:0.5690\tMax Score:0.5976\n",
      "Epoch:67\tTrain Loss:0.3681378535724975\tVal Loss:0.8801717648380681\tTrain Score:0.7617\tVal Score:0.5466\tMax Score:0.5976\n",
      "Epoch:68\tTrain Loss:0.39633203257580063\tVal Loss:0.9786412935507925\tTrain Score:0.7639\tVal Score:0.5517\tMax Score:0.5976\n",
      "Epoch:69\tTrain Loss:0.3726050928235054\tVal Loss:0.8629443519993832\tTrain Score:0.7862\tVal Score:0.5802\tMax Score:0.5976\n",
      "Epoch:70\tTrain Loss:0.3656504162260004\tVal Loss:0.9074313075918901\tTrain Score:0.7984\tVal Score:0.5687\tMax Score:0.5976\n",
      "Epoch:71\tTrain Loss:0.359599787641216\tVal Loss:0.8652434254947462\tTrain Score:0.8113\tVal Score:0.5930\tMax Score:0.5976\n",
      "Epoch:72\tTrain Loss:0.34294863870820486\tVal Loss:0.8757095242801466\tTrain Score:0.7732\tVal Score:0.5534\tMax Score:0.5976\n",
      "Epoch:73\tTrain Loss:0.33343923534895925\tVal Loss:0.8932998509783494\tTrain Score:0.7870\tVal Score:0.5768\tMax Score:0.5976\n",
      "Epoch:74\tTrain Loss:0.34576500811286875\tVal Loss:0.8768667155190518\tTrain Score:0.8028\tVal Score:0.5728\tMax Score:0.5976\n",
      "Epoch:75\tTrain Loss:0.3383483910882795\tVal Loss:0.902384456835295\tTrain Score:0.8073\tVal Score:0.5912\tMax Score:0.5976\n",
      "Epoch:76\tTrain Loss:0.3291519066771945\tVal Loss:0.8725043488176245\tTrain Score:0.8295\tVal Score:0.5858\tMax Score:0.5976\n",
      "Epoch:77\tTrain Loss:0.3215745894892796\tVal Loss:0.8914219878221813\tTrain Score:0.7784\tVal Score:0.5775\tMax Score:0.5976\n",
      "Epoch:78\tTrain Loss:0.375263078188574\tVal Loss:0.9322077882917303\tTrain Score:0.8026\tVal Score:0.5792\tMax Score:0.5976\n",
      "Epoch:79\tTrain Loss:0.33606654284773646\tVal Loss:0.846291118546536\tTrain Score:0.8337\tVal Score:0.5763\tMax Score:0.5976\n",
      "Epoch:80\tTrain Loss:0.34780009997052114\tVal Loss:0.8715272561499947\tTrain Score:0.8222\tVal Score:0.5873\tMax Score:0.5976\n",
      "Epoch:81\tTrain Loss:0.3595896858621288\tVal Loss:0.8820162697842246\tTrain Score:0.8097\tVal Score:0.5708\tMax Score:0.5976\n",
      "Epoch:82\tTrain Loss:0.33159410389694005\tVal Loss:0.8949674289477499\tTrain Score:0.8232\tVal Score:0.5761\tMax Score:0.5976\n",
      "Epoch:83\tTrain Loss:0.3219884497088355\tVal Loss:0.9575622669960323\tTrain Score:0.8076\tVal Score:0.5729\tMax Score:0.5976\n",
      "Epoch:84\tTrain Loss:0.31395985407603755\tVal Loss:0.950635081843326\tTrain Score:0.8155\tVal Score:0.5672\tMax Score:0.5976\n",
      "Epoch:85\tTrain Loss:0.31369245092611053\tVal Loss:0.90253956694352\tTrain Score:0.8263\tVal Score:0.5713\tMax Score:0.5976\n",
      "Epoch:86\tTrain Loss:0.29847293125616536\tVal Loss:0.9552608414700157\tTrain Score:0.8346\tVal Score:0.5693\tMax Score:0.5976\n",
      "Epoch:87\tTrain Loss:0.32216783371326085\tVal Loss:0.9446877931293688\tTrain Score:0.7834\tVal Score:0.5650\tMax Score:0.5976\n",
      "Epoch:88\tTrain Loss:0.32185004852913524\tVal Loss:1.02293483050246\tTrain Score:0.7961\tVal Score:0.5690\tMax Score:0.5976\n",
      "Epoch:89\tTrain Loss:0.3196405264976862\tVal Loss:0.9623189819486517\tTrain Score:0.8298\tVal Score:0.5736\tMax Score:0.5976\n",
      "Epoch:90\tTrain Loss:0.2963913604617119\tVal Loss:0.9819679871985787\tTrain Score:0.7926\tVal Score:0.5588\tMax Score:0.5976\n",
      "Epoch:91\tTrain Loss:0.30831003934144974\tVal Loss:0.9547589358530546\tTrain Score:0.8311\tVal Score:0.5766\tMax Score:0.5976\n",
      "Epoch:92\tTrain Loss:0.2862331774589178\tVal Loss:0.9505758285522461\tTrain Score:0.8458\tVal Score:0.5947\tMax Score:0.5976\n",
      "Epoch:93\tTrain Loss:0.2889908925705665\tVal Loss:0.9940610433879652\tTrain Score:0.8331\tVal Score:0.5788\tMax Score:0.5976\n",
      "Epoch:94\tTrain Loss:0.29211796115379074\tVal Loss:0.9841620122131548\tTrain Score:0.8412\tVal Score:0.5683\tMax Score:0.5976\n",
      "Epoch:95\tTrain Loss:0.28543054695064957\tVal Loss:0.943898219811289\tTrain Score:0.8428\tVal Score:0.5894\tMax Score:0.5976\n",
      "Epoch:96\tTrain Loss:0.2744227652815548\tVal Loss:1.0071235738302533\tTrain Score:0.8394\tVal Score:0.5814\tMax Score:0.5976\n",
      "Epoch:97\tTrain Loss:0.3181390153193796\tVal Loss:0.9800826499336645\tTrain Score:0.7831\tVal Score:0.5787\tMax Score:0.5976\n",
      "Epoch:98\tTrain Loss:0.37116817425231674\tVal Loss:0.9734694283259543\tTrain Score:0.8347\tVal Score:0.5799\tMax Score:0.5976\n",
      "Epoch:99\tTrain Loss:0.2972692061920424\tVal Loss:1.0594789966156608\tTrain Score:0.8305\tVal Score:0.5930\tMax Score:0.5976\n",
      "Epoch:100\tTrain Loss:0.2706788513507392\tVal Loss:0.9631435573101044\tTrain Score:0.8589\tVal Score:0.5844\tMax Score:0.5976\n",
      "Epoch:101\tTrain Loss:0.25908273982035146\tVal Loss:1.080148082030447\tTrain Score:0.8269\tVal Score:0.5633\tMax Score:0.5976\n",
      "Epoch:102\tTrain Loss:0.28765778364361944\tVal Loss:0.9963463105653462\tTrain Score:0.8530\tVal Score:0.5914\tMax Score:0.5976\n",
      "Epoch:103\tTrain Loss:0.2823235627163101\tVal Loss:1.0905415682416213\tTrain Score:0.8600\tVal Score:0.5843\tMax Score:0.5976\n",
      "Epoch:104\tTrain Loss:0.2973354748777441\tVal Loss:1.0596840444364046\tTrain Score:0.8263\tVal Score:0.5637\tMax Score:0.5976\n",
      "Epoch:105\tTrain Loss:0.2638341328380881\tVal Loss:1.0704939490870427\tTrain Score:0.8392\tVal Score:0.5900\tMax Score:0.5976\n",
      "Epoch:106\tTrain Loss:0.25701328961027636\tVal Loss:1.0609279337682223\tTrain Score:0.8338\tVal Score:0.5645\tMax Score:0.5976\n",
      "Epoch:107\tTrain Loss:0.2742719669398424\tVal Loss:1.0634152575543052\tTrain Score:0.8619\tVal Score:0.5746\tMax Score:0.5976\n",
      "Epoch:108\tTrain Loss:0.2684460387036607\tVal Loss:1.1042187276639437\tTrain Score:0.8455\tVal Score:0.5905\tMax Score:0.5976\n",
      "Epoch:109\tTrain Loss:0.2864366452637556\tVal Loss:1.0019249618053436\tTrain Score:0.8515\tVal Score:0.5896\tMax Score:0.5976\n",
      "Epoch:110\tTrain Loss:0.2619288878867755\tVal Loss:1.1183165280442489\tTrain Score:0.8482\tVal Score:0.5830\tMax Score:0.5976\n",
      "Epoch:111\tTrain Loss:0.26329925233447876\tVal Loss:1.0672608896305686\tTrain Score:0.8546\tVal Score:0.5769\tMax Score:0.5976\n",
      "Epoch:112\tTrain Loss:0.26910007855779416\tVal Loss:1.0783283710479736\tTrain Score:0.8239\tVal Score:0.5808\tMax Score:0.5976\n",
      "Epoch:113\tTrain Loss:0.294148316657221\tVal Loss:1.0906789287140495\tTrain Score:0.8574\tVal Score:0.5591\tMax Score:0.5976\n",
      "Epoch:114\tTrain Loss:0.2818294386001858\tVal Loss:1.1609551686989634\tTrain Score:0.8534\tVal Score:0.5778\tMax Score:0.5976\n",
      "Epoch:115\tTrain Loss:0.27458037254778117\tVal Loss:1.1380471587181091\tTrain Score:0.8416\tVal Score:0.5835\tMax Score:0.5976\n",
      "Epoch:116\tTrain Loss:0.28294305704735423\tVal Loss:1.2022232099583274\tTrain Score:0.8096\tVal Score:0.5600\tMax Score:0.5976\n",
      "Epoch:117\tTrain Loss:0.2939179391675704\tVal Loss:1.1874547694858753\tTrain Score:0.8560\tVal Score:0.5863\tMax Score:0.5976\n",
      "Epoch:118\tTrain Loss:0.27852634723122055\tVal Loss:1.1074462062434147\tTrain Score:0.8420\tVal Score:0.5786\tMax Score:0.5976\n",
      "Epoch:119\tTrain Loss:0.24020070038937233\tVal Loss:1.1179583982417458\tTrain Score:0.8652\tVal Score:0.5915\tMax Score:0.5976\n",
      "Epoch:120\tTrain Loss:0.2380409029287261\tVal Loss:1.146305335195441\tTrain Score:0.8565\tVal Score:0.5806\tMax Score:0.5976\n",
      "Epoch:121\tTrain Loss:0.23917517891606768\tVal Loss:1.1430559064212598\tTrain Score:0.8639\tVal Score:0.5837\tMax Score:0.5976\n",
      "Epoch:122\tTrain Loss:0.24033749657305511\tVal Loss:1.1739241888648586\tTrain Score:0.8474\tVal Score:0.5628\tMax Score:0.5976\n",
      "Epoch:123\tTrain Loss:0.2340004018231018\tVal Loss:1.1086125813032452\tTrain Score:0.8601\tVal Score:0.5948\tMax Score:0.5976\n",
      "Epoch:124\tTrain Loss:0.2621937738479795\tVal Loss:1.2489179310045744\tTrain Score:0.8367\tVal Score:0.5619\tMax Score:0.5976\n",
      "Epoch:125\tTrain Loss:0.2621215029141387\tVal Loss:1.2741464439191317\tTrain Score:0.8322\tVal Score:0.5624\tMax Score:0.5976\n",
      "Epoch:126\tTrain Loss:0.25350016436061346\tVal Loss:1.1096167376166897\tTrain Score:0.8827\tVal Score:0.5931\tMax Score:0.5976\n",
      "Epoch:127\tTrain Loss:0.2474510502573606\tVal Loss:1.2049232940924794\tTrain Score:0.8370\tVal Score:0.5743\tMax Score:0.5976\n",
      "Epoch:128\tTrain Loss:0.26338788484399384\tVal Loss:1.1882525713820207\tTrain Score:0.8534\tVal Score:0.5953\tMax Score:0.5976\n",
      "Epoch:129\tTrain Loss:0.23814567309376355\tVal Loss:1.1020896591638263\tTrain Score:0.8827\tVal Score:0.5943\tMax Score:0.5976\n",
      "Epoch:130\tTrain Loss:0.2229620374336436\tVal Loss:1.1480400154465122\tTrain Score:0.8765\tVal Score:0.5907\tMax Score:0.5976\n",
      "Epoch:131\tTrain Loss:0.21535103385512894\tVal Loss:1.224221198182357\tTrain Score:0.8786\tVal Score:0.5793\tMax Score:0.5976\n",
      "Epoch:132\tTrain Loss:0.21682340374870882\tVal Loss:1.2063620780643665\tTrain Score:0.8665\tVal Score:0.5768\tMax Score:0.5976\n",
      "Epoch:133\tTrain Loss:0.22175245903231003\tVal Loss:1.226150973847038\tTrain Score:0.8597\tVal Score:0.5890\tMax Score:0.5976\n",
      "Epoch:134\tTrain Loss:0.2249601690753086\tVal Loss:1.1730576000715558\tTrain Score:0.8764\tVal Score:0.5823\tMax Score:0.5976\n",
      "Epoch:135\tTrain Loss:0.23451449420001055\tVal Loss:1.20736625790596\tTrain Score:0.8435\tVal Score:0.5656\tMax Score:0.5976\n",
      "Epoch:136\tTrain Loss:0.2648706111956287\tVal Loss:1.2418165834326493\tTrain Score:0.8453\tVal Score:0.5553\tMax Score:0.5976\n",
      "Epoch:137\tTrain Loss:0.23445798225096753\tVal Loss:1.2290219852798863\tTrain Score:0.8694\tVal Score:0.5854\tMax Score:0.5976\n",
      "Epoch:138\tTrain Loss:0.2808761227171163\tVal Loss:1.3002976241864657\tTrain Score:0.8131\tVal Score:0.5714\tMax Score:0.5976\n",
      "Epoch:139\tTrain Loss:0.3713177790915644\tVal Loss:1.223421639517734\tTrain Score:0.7998\tVal Score:0.5733\tMax Score:0.5976\n",
      "Epoch:140\tTrain Loss:0.32932481089153803\tVal Loss:1.1035074968087046\tTrain Score:0.8451\tVal Score:0.5859\tMax Score:0.5976\n",
      "Epoch:141\tTrain Loss:0.25161100702511296\tVal Loss:1.194159226982217\tTrain Score:0.8698\tVal Score:0.5922\tMax Score:0.5976\n",
      "Epoch:142\tTrain Loss:0.2249241064529161\tVal Loss:1.1115645374122418\tTrain Score:0.8923\tVal Score:0.5962\tMax Score:0.5976\n",
      "Epoch:143\tTrain Loss:0.21967503634860386\tVal Loss:1.2060003406123112\tTrain Score:0.8791\tVal Score:0.5950\tMax Score:0.5976\n",
      "Epoch:144\tTrain Loss:0.2166846266670807\tVal Loss:1.249194019719174\tTrain Score:0.8631\tVal Score:0.5950\tMax Score:0.5976\n",
      "Epoch:145\tTrain Loss:0.21335811817364111\tVal Loss:1.2202787258123096\tTrain Score:0.8810\tVal Score:0.5866\tMax Score:0.5976\n",
      "Epoch:146\tTrain Loss:0.2424236700140141\tVal Loss:1.2330766382970308\tTrain Score:0.8609\tVal Score:0.5779\tMax Score:0.5976\n",
      "Epoch:147\tTrain Loss:0.22554938817346418\tVal Loss:1.1993670745899803\tTrain Score:0.8673\tVal Score:0.5814\tMax Score:0.5976\n",
      "Epoch:148\tTrain Loss:0.20903940267256788\tVal Loss:1.2648395770474483\tTrain Score:0.8906\tVal Score:0.5862\tMax Score:0.5976\n",
      "Epoch:149\tTrain Loss:0.20555456254530596\tVal Loss:1.239131836514724\tTrain Score:0.8962\tVal Score:0.5866\tMax Score:0.5976\n",
      "Epoch:150\tTrain Loss:0.19955535625686516\tVal Loss:1.1567852873551219\tTrain Score:0.8762\tVal Score:0.5853\tMax Score:0.5976\n",
      "Epoch:151\tTrain Loss:0.19942323611797513\tVal Loss:1.262206560687015\tTrain Score:0.8731\tVal Score:0.5756\tMax Score:0.5976\n",
      "Epoch:152\tTrain Loss:0.22002409851631602\tVal Loss:1.2110765952812999\tTrain Score:0.8918\tVal Score:0.5787\tMax Score:0.5976\n",
      "Epoch:153\tTrain Loss:0.21257119545259992\tVal Loss:1.3556736362607855\tTrain Score:0.8643\tVal Score:0.5689\tMax Score:0.5976\n",
      "Epoch:154\tTrain Loss:0.2266398059153879\tVal Loss:1.2835870949845565\tTrain Score:0.8873\tVal Score:0.5820\tMax Score:0.5976\n",
      "Epoch:155\tTrain Loss:0.20682444594599106\tVal Loss:1.267423855630975\tTrain Score:0.8681\tVal Score:0.5828\tMax Score:0.5976\n",
      "Epoch:156\tTrain Loss:0.22026783640722972\tVal Loss:1.3428828465311151\tTrain Score:0.8883\tVal Score:0.5697\tMax Score:0.5976\n",
      "Epoch:157\tTrain Loss:0.2501465114387306\tVal Loss:1.3373799449519108\tTrain Score:0.8427\tVal Score:0.5545\tMax Score:0.5976\n",
      "Epoch:158\tTrain Loss:0.2141288360832511\tVal Loss:1.3774295229660838\tTrain Score:0.8903\tVal Score:0.5904\tMax Score:0.5976\n",
      "Epoch:159\tTrain Loss:0.2042757927163227\tVal Loss:1.2868218704273826\tTrain Score:0.8495\tVal Score:0.5763\tMax Score:0.5976\n",
      "Epoch:160\tTrain Loss:0.2184582461376448\tVal Loss:1.3621111920005398\tTrain Score:0.8728\tVal Score:0.5744\tMax Score:0.5976\n",
      "Epoch:161\tTrain Loss:0.24143124663749257\tVal Loss:1.3311922424717952\tTrain Score:0.8805\tVal Score:0.5752\tMax Score:0.5976\n",
      "Epoch:162\tTrain Loss:0.27503116600014066\tVal Loss:1.2741268700674961\tTrain Score:0.8595\tVal Score:0.5839\tMax Score:0.5976\n",
      "Epoch:163\tTrain Loss:0.23175771182050575\tVal Loss:1.2925850403936285\tTrain Score:0.8682\tVal Score:0.5863\tMax Score:0.5976\n",
      "Epoch:164\tTrain Loss:0.22963870608726064\tVal Loss:1.4190068888036829\tTrain Score:0.8441\tVal Score:0.5500\tMax Score:0.5976\n",
      "Epoch:165\tTrain Loss:0.2102567224285087\tVal Loss:1.3873504839445416\tTrain Score:0.8578\tVal Score:0.5611\tMax Score:0.5976\n",
      "Epoch:166\tTrain Loss:0.24068163214503108\tVal Loss:1.3070774846955349\tTrain Score:0.8706\tVal Score:0.5798\tMax Score:0.5976\n",
      "Epoch:167\tTrain Loss:0.2609603305322093\tVal Loss:1.29411507593958\tTrain Score:0.8687\tVal Score:0.5724\tMax Score:0.5976\n",
      "Epoch:168\tTrain Loss:0.20884934168409658\tVal Loss:1.3704283425682469\tTrain Score:0.8968\tVal Score:0.5924\tMax Score:0.5976\n",
      "Epoch:169\tTrain Loss:0.18984410247287234\tVal Loss:1.4265476277000027\tTrain Score:0.8876\tVal Score:0.5829\tMax Score:0.5976\n",
      "Epoch:170\tTrain Loss:0.1709793545305729\tVal Loss:1.3339861192201312\tTrain Score:0.8968\tVal Score:0.6000\tMax Score:0.5976\n",
      "Epoch:171\tTrain Loss:0.18188076244818197\tVal Loss:1.4145041955144781\tTrain Score:0.8899\tVal Score:0.5808\tMax Score:0.6000\n",
      "Epoch:172\tTrain Loss:0.17278396207335833\tVal Loss:1.4506852517002506\tTrain Score:0.8977\tVal Score:0.5985\tMax Score:0.6000\n",
      "Epoch:173\tTrain Loss:0.18207838174861832\tVal Loss:1.4134307880150645\tTrain Score:0.8894\tVal Score:0.5690\tMax Score:0.6000\n",
      "Epoch:174\tTrain Loss:0.18973252086623296\tVal Loss:1.2729707454380237\tTrain Score:0.8994\tVal Score:0.5872\tMax Score:0.6000\n",
      "Epoch:175\tTrain Loss:0.19986404810805578\tVal Loss:1.3501354487318742\tTrain Score:0.8753\tVal Score:0.5787\tMax Score:0.6000\n",
      "Epoch:176\tTrain Loss:0.21155106910579913\tVal Loss:1.3967251212973344\tTrain Score:0.9042\tVal Score:0.6024\tMax Score:0.6000\n",
      "Epoch:177\tTrain Loss:0.19307994913007762\tVal Loss:1.4877513898046393\tTrain Score:0.8999\tVal Score:0.6015\tMax Score:0.6024\n",
      "Epoch:178\tTrain Loss:0.21540588890579906\tVal Loss:1.3476537120969672\tTrain Score:0.8879\tVal Score:0.5886\tMax Score:0.6024\n",
      "Epoch:179\tTrain Loss:0.18337164346028018\tVal Loss:1.4458342382782383\tTrain Score:0.8804\tVal Score:0.5869\tMax Score:0.6024\n",
      "Epoch:180\tTrain Loss:0.18671633726036227\tVal Loss:1.3752801826125698\tTrain Score:0.8955\tVal Score:0.5845\tMax Score:0.6024\n",
      "Epoch:181\tTrain Loss:0.19233599738092036\tVal Loss:1.5444749123171757\tTrain Score:0.8683\tVal Score:0.6003\tMax Score:0.6024\n",
      "Epoch:182\tTrain Loss:0.20640215312911048\tVal Loss:1.3385595373417203\tTrain Score:0.9000\tVal Score:0.6035\tMax Score:0.6024\n",
      "Epoch:183\tTrain Loss:0.20045060337193915\tVal Loss:1.4641446847664683\tTrain Score:0.8944\tVal Score:0.5836\tMax Score:0.6035\n",
      "Epoch:184\tTrain Loss:0.17569956591201796\tVal Loss:1.416041518512525\tTrain Score:0.9004\tVal Score:0.5849\tMax Score:0.6035\n",
      "Epoch:185\tTrain Loss:0.19315422668650345\tVal Loss:1.4281042343691777\tTrain Score:0.9162\tVal Score:0.5972\tMax Score:0.6035\n",
      "Epoch:186\tTrain Loss:0.16324874230131908\tVal Loss:1.445303295788012\tTrain Score:0.8902\tVal Score:0.5944\tMax Score:0.6035\n",
      "Epoch:187\tTrain Loss:0.17006388437506315\tVal Loss:1.4891729935219413\tTrain Score:0.8959\tVal Score:0.5970\tMax Score:0.6035\n",
      "Epoch:188\tTrain Loss:0.1846870626952197\tVal Loss:1.4564423059162341\tTrain Score:0.9082\tVal Score:0.5971\tMax Score:0.6035\n",
      "Epoch:189\tTrain Loss:0.2093908600005749\tVal Loss:1.5194053085226762\tTrain Score:0.8348\tVal Score:0.5686\tMax Score:0.6035\n",
      "Epoch:190\tTrain Loss:0.18894431528610153\tVal Loss:1.5040891013647382\tTrain Score:0.8951\tVal Score:0.5876\tMax Score:0.6035\n",
      "Epoch:191\tTrain Loss:0.196320588977353\tVal Loss:1.4225346069586904\tTrain Score:0.9191\tVal Score:0.6135\tMax Score:0.6035\n",
      "Epoch:192\tTrain Loss:0.1601201959860486\tVal Loss:1.4911511571783769\tTrain Score:0.8943\tVal Score:0.6004\tMax Score:0.6135\n",
      "Epoch:193\tTrain Loss:0.16198032893039085\tVal Loss:1.6183078696853237\tTrain Score:0.8994\tVal Score:0.5815\tMax Score:0.6135\n",
      "Epoch:194\tTrain Loss:0.15941727846055417\tVal Loss:1.5591239301781905\tTrain Score:0.9060\tVal Score:0.5868\tMax Score:0.6135\n",
      "Epoch:195\tTrain Loss:0.15629907080752625\tVal Loss:1.531938954403526\tTrain Score:0.9186\tVal Score:0.5933\tMax Score:0.6135\n",
      "Epoch:196\tTrain Loss:0.1659502662919663\tVal Loss:1.6136410706921627\tTrain Score:0.8812\tVal Score:0.5795\tMax Score:0.6135\n",
      "Epoch:197\tTrain Loss:0.22777803795965942\tVal Loss:1.5966201926532544\tTrain Score:0.8770\tVal Score:0.5719\tMax Score:0.6135\n",
      "Epoch:198\tTrain Loss:0.20942899300339254\tVal Loss:1.4744056635781337\tTrain Score:0.8895\tVal Score:0.5773\tMax Score:0.6135\n",
      "Epoch:199\tTrain Loss:0.17560047510306578\tVal Loss:1.5103930266279924\tTrain Score:0.9129\tVal Score:0.5873\tMax Score:0.6135\n"
     ]
    },
    {
     "data": {
      "image/png": "[encoded data removed]",
      "text/plain": [
       "<Figure size 432x288 with 2 Axes>"
      ]
     },
     "metadata": {
      "needs_background": "light",
      "tags": []
     },
     "output_type": "display_data"
    }
   ],
   "source": [
    "print(\"#######################################################################\")\n",
    "print(\"TRAIN MODEL\")\n",
    "train_loss = []\n",
    "val_loss = []\n",
    "train_score = []\n",
    "val_score = []\n",
    "max_score = 0\n",
    "for epoch in range(1,epochs):\n",
    "\n",
    "    model.train()\n",
    "\n",
    "    total_loss = 0\n",
    "    for batch, [data, labels] in enumerate(train_loader):\n",
    "        optimizer.zero_grad()\n",
    "        out = model(data.to('cuda'))\n",
    "        loss = criterion(out, labels.to('cuda'))\n",
    "        loss.backward()\n",
    "        optimizer.step()\n",
    "        total_loss += loss.item()\n",
    "    print('Epoch:{}\\tTrain Loss:{}'.format(epoch, total_loss/(batch+1)), end=\"\\t\")\n",
    "    train_loss.append(total_loss/(batch+1))\n",
    "\n",
    "    total_loss = 0\n",
    "    for batch, [data, labels] in enumerate(val_loader):\n",
    "        out = model(data.to('cuda'))\n",
    "        loss = criterion(out, labels.to('cuda'))\n",
    "        total_loss += loss.item()\n",
    "    print('Val Loss:{}'.format(total_loss/(batch+1)), end=\"\\t\")\n",
    "    val_loss.append(total_loss/(batch+1))\n",
    "\n",
    "    model.eval()\n",
    "\n",
    "    pred_labels = np.zeros(len(train_loader)*batch_size).astype(np.int)\n",
    "    true_labels = np.zeros(len(train_loader)*batch_size).astype(np.int)\n",
    "    total = 0\n",
    "    for batch, [data, labels] in enumerate(train_loader):\n",
    "        out = model(data.to('cuda'))\n",
    "        out = torch.argmax(torch.nn.functional.softmax(out, dim=1), dim=1)\n",
    "        pred_labels[total:total+len(labels)] = out.detach().cpu().numpy()\n",
    "        true_labels[total:total+len(labels)] = labels.cpu().numpy()\n",
    "        total += len(labels)\n",
    "    pred_labels = pred_labels[:total]\n",
    "    true_labels = true_labels[:total]\n",
    "    train_score.append(f1_score(y_true=true_labels, y_pred=pred_labels, average='macro'))\n",
    "    print('Train Score:{:.4f}'.format(train_score[-1]), end=\"\\t\")\n",
    "\n",
    "    pred_labels = np.zeros(len(val_loader)*batch_size).astype(np.int)\n",
    "    true_labels = np.zeros(len(val_loader)*batch_size).astype(np.int)\n",
    "    total = 0\n",
    "    for batch, [data, labels] in enumerate(val_loader):\n",
    "        out = model(data.to('cuda'))\n",
    "        out = torch.argmax(torch.nn.functional.softmax(out, dim=1), dim=1)\n",
    "        pred_labels[total:total+len(labels)] = out.detach().cpu().numpy()\n",
    "        true_labels[total:total+len(labels)] = labels.cpu().numpy()\n",
    "        total += len(labels)\n",
    "    pred_labels = pred_labels[:total]\n",
    "    true_labels = true_labels[:total]\n",
    "    val_score.append(f1_score(y_true=true_labels, y_pred=pred_labels, average='macro'))\n",
    "    print(\"Val Score:{:.4f}\\tMax Score:{:.4f}\".format(val_score[-1], max_score))\n",
    "    if max_score<val_score[-1]:\n",
    "        max_score = val_score[-1]\n",
    "        torch.save(model.state_dict(), os.path.join(MODEL_DIR, \"ANN.pt\"))\n",
    "\n",
    "fig, axs = plt.subplots(nrows=1, ncols=2, constrained_layout=True)\n",
    "ax = axs[0]\n",
    "ax.plot(train_loss, label='train')\n",
    "ax.plot(val_loss, label='val')\n",
    "ax.legend()\n",
    "ax.set_ylabel('loss')\n",
    "ax.set_xlabel('epochs')\n",
    "ax = axs[1] \n",
    "ax.plot(train_score, label='train')\n",
    "ax.plot(val_score, label='val')\n",
    "ax.legend()\n",
    "ax.set_ylabel('F1')\n",
    "ax.set_xlabel('epochs')\n",
    "plt.savefig(os.path.join(RESULT_DIR, \"ANN.pdf\"), format = \"pdf\")\n",
    "plt.show()"
   ]
  },
  {
   "cell_type": "markdown",
   "metadata": {
    "id": "PJQ-fAlaCRob"
   },
   "source": [
    "# TEST MODEL"
   ]
  },
  {
   "cell_type": "code",
   "execution_count": 10,
   "metadata": {
    "colab": {
     "base_uri": "https://localhost:8080/"
    },
    "executionInfo": {
     "elapsed": 466,
     "status": "ok",
     "timestamp": 1616415588586,
     "user": {
      "displayName": "Rahul Ghosh",
      "photoUrl": "https://lh3.googleusercontent.com/a-/AOh14GjeAjOP7jm4Gi4wA1PP_KWWF3bfTVMaEW9-QfEG=s64",
      "userId": "14656825252273565053"
     },
     "user_tz": 300
    },
    "id": "ePC-7R7CQq9z",
    "outputId": "21e8f8d2-52dc-4a8a-80d4-71e46eda9426"
   },
   "outputs": [
    {
     "name": "stdout",
     "output_type": "stream",
     "text": [
      "#######################################################################\n",
      "LOAD MODEL\n"
     ]
    },
    {
     "data": {
      "text/plain": [
       "ANN(\n",
       "  (fc_1): Linear(in_features=259, out_features=32, bias=True)\n",
       "  (fc_2): Linear(in_features=32, out_features=3, bias=True)\n",
       "  (relu): ReLU()\n",
       ")"
      ]
     },
     "execution_count": 10,
     "metadata": {
      "tags": []
     },
     "output_type": "execute_result"
    }
   ],
   "source": [
    "print(\"#######################################################################\")\n",
    "print(\"LOAD MODEL\")\n",
    "model.load_state_dict(torch.load(os.path.join(MODEL_DIR, \"ANN.pt\")))\n",
    "model.eval()"
   ]
  },
  {
   "cell_type": "code",
   "execution_count": 11,
   "metadata": {
    "colab": {
     "base_uri": "https://localhost:8080/",
     "height": 755
    },
    "executionInfo": {
     "elapsed": 894,
     "status": "ok",
     "timestamp": 1616415591034,
     "user": {
      "displayName": "Rahul Ghosh",
      "photoUrl": "https://lh3.googleusercontent.com/a-/AOh14GjeAjOP7jm4Gi4wA1PP_KWWF3bfTVMaEW9-QfEG=s64",
      "userId": "14656825252273565053"
     },
     "user_tz": 300
    },
    "id": "IeW1RTw2QuqA",
    "outputId": "53a84056-c1e1-4370-e339-4becf845c6c7"
   },
   "outputs": [
    {
     "name": "stdout",
     "output_type": "stream",
     "text": [
      "#######################################################################\n",
      "TEST ON TRAIN SET\n",
      "Scores:\n",
      "              precision    recall  f1-score   support\n",
      "\n",
      "    negative      0.951     0.977     0.964      2457\n",
      "     neutral      0.953     0.873     0.911       738\n",
      "    positive      0.887     0.878     0.882       491\n",
      "\n",
      "    accuracy                          0.943      3686\n",
      "   macro avg      0.930     0.909     0.919      3686\n",
      "weighted avg      0.943     0.943     0.943      3686\n",
      "\n",
      "\n",
      "Confusion_matrix:\n"
     ]
    },
    {
     "data": {
      "text/plain": [
       "<matplotlib.axes._subplots.AxesSubplot at 0x7ffa3214fcd0>"
      ]
     },
     "execution_count": 11,
     "metadata": {
      "tags": []
     },
     "output_type": "execute_result"
    },
    {
     "data": {
      "image/png": "[encoded data removed]",
      "text/plain": [
       "<Figure size 864x576 with 2 Axes>"
      ]
     },
     "metadata": {
      "needs_background": "light",
      "tags": []
     },
     "output_type": "display_data"
    }
   ],
   "source": [
    "print(\"#######################################################################\")\n",
    "print(\"TEST ON TRAIN SET\")\n",
    "pred_labels = np.zeros(len(train_loader)*batch_size).astype(np.int)\n",
    "true_labels = np.zeros(len(train_loader)*batch_size).astype(np.int)\n",
    "total = 0\n",
    "for batch, [data, labels] in enumerate(train_loader):\n",
    "    out = model(data.to('cuda'))\n",
    "    out = torch.argmax(torch.nn.functional.softmax(out, dim=1), dim=1)\n",
    "    pred_labels[total:total+len(labels)] = out.detach().cpu().numpy()\n",
    "    true_labels[total:total+len(labels)] = labels.cpu().numpy()\n",
    "    total += len(labels)\n",
    "pred_labels = pred_labels[:total]\n",
    "true_labels = true_labels[:total]\n",
    "print(\"Scores:\")\n",
    "print(classification_report(true_labels, pred_labels, target_names=le.classes_, digits=3))\n",
    "print(\"\\nConfusion_matrix:\")\n",
    "cm = confusion_matrix(true_labels, pred_labels)\n",
    "cm_df = pd.DataFrame(cm, le.classes_, le.classes_)                      \n",
    "plt.figure(figsize=(12,8))  \n",
    "sns.heatmap(cm_df, annot=True)"
   ]
  },
  {
   "cell_type": "code",
   "execution_count": 12,
   "metadata": {
    "colab": {
     "base_uri": "https://localhost:8080/",
     "height": 755
    },
    "executionInfo": {
     "elapsed": 748,
     "status": "ok",
     "timestamp": 1616415595019,
     "user": {
      "displayName": "Rahul Ghosh",
      "photoUrl": "https://lh3.googleusercontent.com/a-/AOh14GjeAjOP7jm4Gi4wA1PP_KWWF3bfTVMaEW9-QfEG=s64",
      "userId": "14656825252273565053"
     },
     "user_tz": 300
    },
    "id": "DY9sIeLiQ8n3",
    "outputId": "9ad6c1a1-3e59-4d1a-ee16-8808d7bc004f"
   },
   "outputs": [
    {
     "name": "stdout",
     "output_type": "stream",
     "text": [
      "#######################################################################\n",
      "TEST ON VAL SET\n",
      "Scores:\n",
      "              precision    recall  f1-score   support\n",
      "\n",
      "    negative      0.831     0.831     0.831       615\n",
      "     neutral      0.621     0.587     0.603       184\n",
      "    positive      0.391     0.423     0.406       123\n",
      "\n",
      "    accuracy                          0.728       922\n",
      "   macro avg      0.614     0.614     0.613       922\n",
      "weighted avg      0.730     0.728     0.729       922\n",
      "\n",
      "\n",
      "Confusion_matrix:\n"
     ]
    },
    {
     "data": {
      "text/plain": [
       "<matplotlib.axes._subplots.AxesSubplot at 0x7ffa32045510>"
      ]
     },
     "execution_count": 12,
     "metadata": {
      "tags": []
     },
     "output_type": "execute_result"
    },
    {
     "data": {
      "image/png": "[encoded data removed]",
      "text/plain": [
       "<Figure size 864x576 with 2 Axes>"
      ]
     },
     "metadata": {
      "needs_background": "light",
      "tags": []
     },
     "output_type": "display_data"
    }
   ],
   "source": [
    "print(\"#######################################################################\")\n",
    "print(\"TEST ON VAL SET\")\n",
    "pred_labels = np.zeros(len(val_loader)*batch_size).astype(np.int)\n",
    "true_labels = np.zeros(len(val_loader)*batch_size).astype(np.int)\n",
    "total = 0\n",
    "for batch, [data, labels] in enumerate(val_loader):\n",
    "    out = model(data.to('cuda'))\n",
    "    out = torch.argmax(torch.nn.functional.softmax(out, dim=1), dim=1)\n",
    "    pred_labels[total:total+len(labels)] = out.detach().cpu().numpy()\n",
    "    true_labels[total:total+len(labels)] = labels.cpu().numpy()\n",
    "    total += len(labels)\n",
    "pred_labels = pred_labels[:total]\n",
    "true_labels = true_labels[:total]\n",
    "print(\"Scores:\")\n",
    "print(classification_report(true_labels, pred_labels, target_names=le.classes_, digits=3))\n",
    "print(\"\\nConfusion_matrix:\")\n",
    "cm = confusion_matrix(true_labels, pred_labels)\n",
    "cm_df = pd.DataFrame(cm, le.classes_, le.classes_)                      \n",
    "plt.figure(figsize=(12,8))  \n",
    "sns.heatmap(cm_df, annot=True)"
   ]
  },
  {
   "cell_type": "code",
   "execution_count": 13,
   "metadata": {
    "colab": {
     "base_uri": "https://localhost:8080/",
     "height": 755
    },
    "executionInfo": {
     "elapsed": 810,
     "status": "ok",
     "timestamp": 1616415601684,
     "user": {
      "displayName": "Rahul Ghosh",
      "photoUrl": "https://lh3.googleusercontent.com/a-/AOh14GjeAjOP7jm4Gi4wA1PP_KWWF3bfTVMaEW9-QfEG=s64",
      "userId": "14656825252273565053"
     },
     "user_tz": 300
    },
    "id": "yhdN88IGGobE",
    "outputId": "f9cd6aee-2dac-442c-d236-888bc198064e"
   },
   "outputs": [
    {
     "name": "stdout",
     "output_type": "stream",
     "text": [
      "#######################################################################\n",
      "TEST ON TEST SET\n",
      "Scores:\n",
      "              precision    recall  f1-score   support\n",
      "\n",
      "    negative      0.814     0.831     0.822       768\n",
      "     neutral      0.617     0.561     0.588       230\n",
      "    positive      0.453     0.468     0.460       154\n",
      "\n",
      "    accuracy                          0.728      1152\n",
      "   macro avg      0.628     0.620     0.623      1152\n",
      "weighted avg      0.726     0.728     0.727      1152\n",
      "\n",
      "\n",
      "Confusion_matrix:\n"
     ]
    },
    {
     "data": {
      "text/plain": [
       "<matplotlib.axes._subplots.AxesSubplot at 0x7ffa32096b50>"
      ]
     },
     "execution_count": 13,
     "metadata": {
      "tags": []
     },
     "output_type": "execute_result"
    },
    {
     "data": {
      "image/png": "[encoded data removed]",
      "text/plain": [
       "<Figure size 864x576 with 2 Axes>"
      ]
     },
     "metadata": {
      "needs_background": "light",
      "tags": []
     },
     "output_type": "display_data"
    }
   ],
   "source": [
    "print(\"#######################################################################\")\n",
    "print(\"TEST ON TEST SET\")\n",
    "pred_labels = np.zeros(len(test_loader)*batch_size).astype(np.int)\n",
    "true_labels = np.zeros(len(test_loader)*batch_size).astype(np.int)\n",
    "total = 0\n",
    "for batch, [data, labels] in enumerate(test_loader):\n",
    "    out = model(data.to('cuda'))\n",
    "    out = torch.argmax(torch.nn.functional.softmax(out, dim=1), dim=1)\n",
    "    pred_labels[total:total+len(labels)] = out.detach().cpu().numpy()\n",
    "    true_labels[total:total+len(labels)] = labels.cpu().numpy()\n",
    "    total += len(labels)\n",
    "pred_labels = pred_labels[:total]\n",
    "true_labels = true_labels[:total]\n",
    "print(\"Scores:\")\n",
    "print(classification_report(true_labels, pred_labels, target_names=le.classes_, digits=3))\n",
    "print(\"\\nConfusion_matrix:\")\n",
    "cm = confusion_matrix(true_labels, pred_labels)\n",
    "cm_df = pd.DataFrame(cm, le.classes_, le.classes_)                      \n",
    "plt.figure(figsize=(12,8))  \n",
    "sns.heatmap(cm_df, annot=True)"
   ]
  }
 ],
 "metadata": {
  "accelerator": "GPU",
  "colab": {
   "collapsed_sections": [
    "VqnxVk9MDTFZ",
    "0v5ZdGjR7lLh",
    "YJWyBH2_B8Xa",
    "dkxa1aQgCC2A",
    "lNzh-fmTCIPQ",
    "PJQ-fAlaCRob"
   ],
   "name": "Example_classification.ipynb",
   "provenance": []
  },
  "jupytext": {
   "formats": "ipynb,py"
  },
  "kernelspec": {
   "display_name": "Python 3",
   "name": "python3"
  }
 },
 "nbformat": 4,
 "nbformat_minor": 0
}
